{
 "cells": [
  {
   "cell_type": "code",
   "execution_count": 9,
   "id": "fba1bb96",
   "metadata": {
    "ExecuteTime": {
     "end_time": "2021-08-17T00:58:30.031356Z",
     "start_time": "2021-08-17T00:58:29.995380Z"
    }
   },
   "outputs": [],
   "source": [
    "import pandas as pd\n",
    "import numpy as np \n",
    "import seaborn as sns\n",
    "import matplotlib.pyplot as plt\n",
    "from sklearn.feature_selection import SelectKBest, chi2\n",
    "from sklearn.model_selection import KFold,train_test_split,cross_val_score\n",
    "from sklearn.dummy import DummyClassifier\n",
    "from numpy import mean,std\n",
    "from sklearn.metrics import confusion_matrix\n",
    "from sklearn.neighbors import KNeighborsClassifier\n",
    "from sklearn.ensemble import RandomForestClassifier\n",
    "from sklearn.model_selection import GridSearchCV\n",
    "from sklearn.naive_bayes import GaussianNB\n",
    "import shap  \n",
    "from sklearn.metrics import classification_report\n"
   ]
  },
  {
   "cell_type": "code",
   "execution_count": 10,
   "id": "70a37f85",
   "metadata": {
    "ExecuteTime": {
     "end_time": "2021-08-17T00:58:30.287198Z",
     "start_time": "2021-08-17T00:58:30.215242Z"
    }
   },
   "outputs": [],
   "source": [
    "df = pd.read_csv('..\\data\\diabetes_data_upload.csv')"
   ]
  },
  {
   "cell_type": "markdown",
   "id": "1e4f8eed",
   "metadata": {},
   "source": [
    "# EDA"
   ]
  },
  {
   "cell_type": "code",
   "execution_count": 122,
   "id": "4bf45315",
   "metadata": {
    "ExecuteTime": {
     "end_time": "2021-08-17T23:59:21.697199Z",
     "start_time": "2021-08-17T23:59:21.670217Z"
    }
   },
   "outputs": [
    {
     "data": {
      "text/html": [
       "<div>\n",
       "<style scoped>\n",
       "    .dataframe tbody tr th:only-of-type {\n",
       "        vertical-align: middle;\n",
       "    }\n",
       "\n",
       "    .dataframe tbody tr th {\n",
       "        vertical-align: top;\n",
       "    }\n",
       "\n",
       "    .dataframe thead th {\n",
       "        text-align: right;\n",
       "    }\n",
       "</style>\n",
       "<table border=\"1\" class=\"dataframe\">\n",
       "  <thead>\n",
       "    <tr style=\"text-align: right;\">\n",
       "      <th></th>\n",
       "      <th>Age</th>\n",
       "      <th>class</th>\n",
       "    </tr>\n",
       "  </thead>\n",
       "  <tbody>\n",
       "    <tr>\n",
       "      <th>count</th>\n",
       "      <td>520.000000</td>\n",
       "      <td>520.000000</td>\n",
       "    </tr>\n",
       "    <tr>\n",
       "      <th>mean</th>\n",
       "      <td>48.028846</td>\n",
       "      <td>0.615385</td>\n",
       "    </tr>\n",
       "    <tr>\n",
       "      <th>std</th>\n",
       "      <td>12.151466</td>\n",
       "      <td>0.486973</td>\n",
       "    </tr>\n",
       "    <tr>\n",
       "      <th>min</th>\n",
       "      <td>16.000000</td>\n",
       "      <td>0.000000</td>\n",
       "    </tr>\n",
       "    <tr>\n",
       "      <th>25%</th>\n",
       "      <td>39.000000</td>\n",
       "      <td>0.000000</td>\n",
       "    </tr>\n",
       "    <tr>\n",
       "      <th>50%</th>\n",
       "      <td>47.500000</td>\n",
       "      <td>1.000000</td>\n",
       "    </tr>\n",
       "    <tr>\n",
       "      <th>75%</th>\n",
       "      <td>57.000000</td>\n",
       "      <td>1.000000</td>\n",
       "    </tr>\n",
       "    <tr>\n",
       "      <th>max</th>\n",
       "      <td>90.000000</td>\n",
       "      <td>1.000000</td>\n",
       "    </tr>\n",
       "  </tbody>\n",
       "</table>\n",
       "</div>"
      ],
      "text/plain": [
       "              Age       class\n",
       "count  520.000000  520.000000\n",
       "mean    48.028846    0.615385\n",
       "std     12.151466    0.486973\n",
       "min     16.000000    0.000000\n",
       "25%     39.000000    0.000000\n",
       "50%     47.500000    1.000000\n",
       "75%     57.000000    1.000000\n",
       "max     90.000000    1.000000"
      ]
     },
     "execution_count": 122,
     "metadata": {},
     "output_type": "execute_result"
    }
   ],
   "source": [
    "df.describe()"
   ]
  },
  {
   "cell_type": "code",
   "execution_count": 11,
   "id": "f916e6af",
   "metadata": {
    "ExecuteTime": {
     "end_time": "2021-08-17T00:58:30.745916Z",
     "start_time": "2021-08-17T00:58:30.678962Z"
    }
   },
   "outputs": [
    {
     "name": "stdout",
     "output_type": "stream",
     "text": [
      "<class 'pandas.core.frame.DataFrame'>\n",
      "RangeIndex: 520 entries, 0 to 519\n",
      "Data columns (total 17 columns):\n",
      " #   Column              Non-Null Count  Dtype \n",
      "---  ------              --------------  ----- \n",
      " 0   Age                 520 non-null    int64 \n",
      " 1   Gender              520 non-null    object\n",
      " 2   Polyuria            520 non-null    object\n",
      " 3   Polydipsia          520 non-null    object\n",
      " 4   sudden weight loss  520 non-null    object\n",
      " 5   weakness            520 non-null    object\n",
      " 6   Polyphagia          520 non-null    object\n",
      " 7   Genital thrush      520 non-null    object\n",
      " 8   visual blurring     520 non-null    object\n",
      " 9   Itching             520 non-null    object\n",
      " 10  Irritability        520 non-null    object\n",
      " 11  delayed healing     520 non-null    object\n",
      " 12  partial paresis     520 non-null    object\n",
      " 13  muscle stiffness    520 non-null    object\n",
      " 14  Alopecia            520 non-null    object\n",
      " 15  Obesity             520 non-null    object\n",
      " 16  class               520 non-null    object\n",
      "dtypes: int64(1), object(16)\n",
      "memory usage: 69.2+ KB\n"
     ]
    }
   ],
   "source": [
    "# identificando o tipo de variáveis do dataset e a proporção de colunas e linhas\n",
    "df.info()"
   ]
  },
  {
   "cell_type": "code",
   "execution_count": 95,
   "id": "f4ccf63f",
   "metadata": {
    "ExecuteTime": {
     "end_time": "2021-08-17T22:44:58.529446Z",
     "start_time": "2021-08-17T22:44:58.494466Z"
    }
   },
   "outputs": [
    {
     "name": "stdout",
     "output_type": "stream",
     "text": [
      "O dataset possui 520 linhas e 17 colunas\n"
     ]
    }
   ],
   "source": [
    "print(f'O dataset possui {df.shape[0]} linhas e {df.shape[1]} colunas')"
   ]
  },
  {
   "cell_type": "markdown",
   "id": "48136278",
   "metadata": {},
   "source": [
    "A maioria das variáveis está identificada com objeto. Apenas a variável \"Age\" é um valor inteiro."
   ]
  },
  {
   "cell_type": "code",
   "execution_count": 96,
   "id": "63c504d9",
   "metadata": {
    "ExecuteTime": {
     "end_time": "2021-08-17T22:44:59.867424Z",
     "start_time": "2021-08-17T22:44:59.823452Z"
    }
   },
   "outputs": [
    {
     "data": {
      "text/plain": [
       "Age                   0\n",
       "Gender                0\n",
       "Polyuria              0\n",
       "Polydipsia            0\n",
       "sudden weight loss    0\n",
       "weakness              0\n",
       "Polyphagia            0\n",
       "Genital thrush        0\n",
       "visual blurring       0\n",
       "Itching               0\n",
       "Irritability          0\n",
       "delayed healing       0\n",
       "partial paresis       0\n",
       "muscle stiffness      0\n",
       "Alopecia              0\n",
       "Obesity               0\n",
       "class                 0\n",
       "dtype: int64"
      ]
     },
     "execution_count": 96,
     "metadata": {},
     "output_type": "execute_result"
    }
   ],
   "source": [
    "df.isna().sum()"
   ]
  },
  {
   "cell_type": "markdown",
   "id": "39d97bb0",
   "metadata": {},
   "source": [
    "Não há valores nulos no dataset"
   ]
  },
  {
   "cell_type": "code",
   "execution_count": 100,
   "id": "978161c9",
   "metadata": {
    "ExecuteTime": {
     "end_time": "2021-08-17T22:51:48.023367Z",
     "start_time": "2021-08-17T22:51:48.008377Z"
    }
   },
   "outputs": [
    {
     "data": {
      "text/plain": [
       "array([40, 58, 41, 45, 60, 55, 57, 66, 67, 70, 44, 38, 35, 61, 54, 43, 62,\n",
       "       39, 48, 32, 42, 52, 53, 37, 49, 63, 30, 50, 46, 36, 51, 59, 65, 25,\n",
       "       47, 28, 68, 56, 31, 85, 90, 72, 69, 79, 34, 16, 33, 64, 27, 29, 26],\n",
       "      dtype=int64)"
      ]
     },
     "execution_count": 100,
     "metadata": {},
     "output_type": "execute_result"
    }
   ],
   "source": [
    "df.Age.unique()"
   ]
  },
  {
   "cell_type": "code",
   "execution_count": 102,
   "id": "e16d51c7",
   "metadata": {
    "ExecuteTime": {
     "end_time": "2021-08-17T22:52:30.342941Z",
     "start_time": "2021-08-17T22:52:30.179526Z"
    }
   },
   "outputs": [
    {
     "data": {
      "image/png": "[encoded data removed]",
      "text/plain": [
       "<Figure size 432x288 with 1 Axes>"
      ]
     },
     "metadata": {},
     "output_type": "display_data"
    }
   ],
   "source": [
    "sns.boxplot(y=\"Age\", hue=\"class\", data=df, palette=\"Greens\");\n"
   ]
  },
  {
   "cell_type": "code",
   "execution_count": 15,
   "id": "010796c6",
   "metadata": {
    "ExecuteTime": {
     "end_time": "2021-08-17T00:58:32.707705Z",
     "start_time": "2021-08-17T00:58:31.936184Z"
    }
   },
   "outputs": [
    {
     "data": {
      "image/png": "[encoded data removed]",
      "text/plain": [
       "<Figure size 440.875x360 with 1 Axes>"
      ]
     },
     "metadata": {
      "needs_background": "light"
     },
     "output_type": "display_data"
    }
   ],
   "source": [
    "sns.catplot(x=\"Obesity\", y=\"Age\", hue=\"class\", kind=\"box\", data=df);\n"
   ]
  },
  {
   "cell_type": "markdown",
   "id": "0b11dd8c",
   "metadata": {
    "ExecuteTime": {
     "end_time": "2021-08-14T20:53:01.328570Z",
     "start_time": "2021-08-14T20:53:01.311578Z"
    }
   },
   "source": [
    "## Contabilizando a proporção das classes do target \"class\""
   ]
  },
  {
   "cell_type": "code",
   "execution_count": 16,
   "id": "006af0c5",
   "metadata": {
    "ExecuteTime": {
     "end_time": "2021-08-17T00:58:32.723696Z",
     "start_time": "2021-08-17T00:58:32.712704Z"
    },
    "scrolled": true
   },
   "outputs": [
    {
     "data": {
      "text/plain": [
       "Positive    320\n",
       "Negative    200\n",
       "Name: class, dtype: int64"
      ]
     },
     "execution_count": 16,
     "metadata": {},
     "output_type": "execute_result"
    }
   ],
   "source": [
    "df['class'].value_counts()"
   ]
  },
  {
   "cell_type": "code",
   "execution_count": 17,
   "id": "08f469ae",
   "metadata": {
    "ExecuteTime": {
     "end_time": "2021-08-17T00:58:33.072481Z",
     "start_time": "2021-08-17T00:58:32.727694Z"
    }
   },
   "outputs": [
    {
     "name": "stdout",
     "output_type": "stream",
     "text": [
      "Class Positive: 0.6153846153846154\n",
      "Class Negative: 0.38461538461538464\n",
      "Proporção: 1.6 : 1\n"
     ]
    },
    {
     "data": {
      "image/png": "[encoded data removed]",
      "text/plain": [
       "<Figure size 432x288 with 1 Axes>"
      ]
     },
     "metadata": {
      "needs_background": "light"
     },
     "output_type": "display_data"
    }
   ],
   "source": [
    "target = df['class'].value_counts(normalize=True)\n",
    "print('Class Positive:', target[0])\n",
    "print('Class Negative:', target[1])\n",
    "print('Proporção:', round(target[0] / target[1], 2), ': 1')\n",
    "\n",
    "target.plot(kind='bar', color='green', title='Contabilizando (target)');"
   ]
  },
  {
   "cell_type": "markdown",
   "id": "ea9504ad",
   "metadata": {
    "ExecuteTime": {
     "end_time": "2021-08-14T20:57:42.363207Z",
     "start_time": "2021-08-14T20:57:42.347217Z"
    }
   },
   "source": [
    "Observamos uma maior quantidade de valores positivos maior que negativo nos diagnósticos de diabetes para o dataset. A proporção de 1.6:1 evidencia um relativo desbalanceamento nos dados.\n",
    "    Dessa forma, devemos observar como tratar essa informação ao construir um modelo que seja capaz de realizar essa classificação sem que o mesmo fique enviesado pela classe maioritaria (diagnósticos positivos)"
   ]
  },
  {
   "cell_type": "code",
   "execution_count": 18,
   "id": "0193f3d7",
   "metadata": {
    "ExecuteTime": {
     "end_time": "2021-08-17T00:58:33.088471Z",
     "start_time": "2021-08-17T00:58:33.076479Z"
    }
   },
   "outputs": [],
   "source": [
    "# Verificando as proporções das classes das demais colunas"
   ]
  },
  {
   "cell_type": "code",
   "execution_count": 104,
   "id": "7481a450",
   "metadata": {
    "ExecuteTime": {
     "end_time": "2021-08-17T23:24:26.414259Z",
     "start_time": "2021-08-17T23:24:23.591098Z"
    },
    "scrolled": false
   },
   "outputs": [
    {
     "data": {
      "image/png": "[encoded data removed]",
      "text/plain": [
       "<Figure size 432x288 with 1 Axes>"
      ]
     },
     "metadata": {},
     "output_type": "display_data"
    },
    {
     "data": {
      "image/png": "[encoded data removed]",
      "text/plain": [
       "<Figure size 432x288 with 1 Axes>"
      ]
     },
     "metadata": {},
     "output_type": "display_data"
    },
    {
     "data": {
      "image/png": "[encoded data removed]",
      "text/plain": [
       "<Figure size 432x288 with 1 Axes>"
      ]
     },
     "metadata": {},
     "output_type": "display_data"
    },
    {
     "data": {
      "image/png": "[encoded data removed]",
      "text/plain": [
       "<Figure size 432x288 with 1 Axes>"
      ]
     },
     "metadata": {},
     "output_type": "display_data"
    },
    {
     "data": {
      "image/png": "[encoded data removed]",
      "text/plain": [
       "<Figure size 432x288 with 1 Axes>"
      ]
     },
     "metadata": {},
     "output_type": "display_data"
    },
    {
     "data": {
      "image/png": "[encoded data removed]",
      "text/plain": [
       "<Figure size 432x288 with 1 Axes>"
      ]
     },
     "metadata": {},
     "output_type": "display_data"
    },
    {
     "data": {
      "image/png": "[encoded data removed]",
      "text/plain": [
       "<Figure size 432x288 with 1 Axes>"
      ]
     },
     "metadata": {},
     "output_type": "display_data"
    },
    {
     "data": {
      "image/png": "[encoded data removed]",
      "text/plain": [
       "<Figure size 432x288 with 1 Axes>"
      ]
     },
     "metadata": {},
     "output_type": "display_data"
    },
    {
     "data": {
      "image/png": "[encoded data removed]",
      "text/plain": [
       "<Figure size 432x288 with 1 Axes>"
      ]
     },
     "metadata": {},
     "output_type": "display_data"
    },
    {
     "data": {
      "image/png": "[encoded data removed]",
      "text/plain": [
       "<Figure size 432x288 with 1 Axes>"
      ]
     },
     "metadata": {},
     "output_type": "display_data"
    },
    {
     "data": {
      "image/png": "[encoded data removed]",
      "text/plain": [
       "<Figure size 432x288 with 1 Axes>"
      ]
     },
     "metadata": {},
     "output_type": "display_data"
    },
    {
     "data": {
      "image/png": "[encoded data removed]",
      "text/plain": [
       "<Figure size 432x288 with 1 Axes>"
      ]
     },
     "metadata": {},
     "output_type": "display_data"
    },
    {
     "data": {
      "image/png": "[encoded data removed]",
      "text/plain": [
       "<Figure size 432x288 with 1 Axes>"
      ]
     },
     "metadata": {},
     "output_type": "display_data"
    },
    {
     "data": {
      "image/png": "[encoded data removed]",
      "text/plain": [
       "<Figure size 432x288 with 1 Axes>"
      ]
     },
     "metadata": {},
     "output_type": "display_data"
    },
    {
     "data": {
      "image/png": "[encoded data removed]",
      "text/plain": [
       "<Figure size 432x288 with 1 Axes>"
      ]
     },
     "metadata": {},
     "output_type": "display_data"
    }
   ],
   "source": [
    "for i,col in enumerate(df.columns[1:-1]):\n",
    "    plt.figure(i)\n",
    "    sns.countplot(x=df[col],data=df,palette=\"Greens\")\n"
   ]
  },
  {
   "cell_type": "markdown",
   "id": "5e0b6801",
   "metadata": {},
   "source": [
    "Algumas constatações podem ser identificadas ao analisar os gráficos. Constatamos que a maioria das pessoas nos exemplos observados não são obesas. Além disso, temos uma maior proporção de homens. Iremos aprofundar nossas análises a partir dessas informações."
   ]
  },
  {
   "cell_type": "code",
   "execution_count": 103,
   "id": "b180491a",
   "metadata": {
    "ExecuteTime": {
     "end_time": "2021-08-17T23:20:37.627012Z",
     "start_time": "2021-08-17T23:20:37.380386Z"
    }
   },
   "outputs": [
    {
     "data": {
      "text/plain": [
       "<AxesSubplot:xlabel='Gender', ylabel='count'>"
      ]
     },
     "execution_count": 103,
     "metadata": {},
     "output_type": "execute_result"
    },
    {
     "data": {
      "image/png": "[encoded data removed]",
      "text/plain": [
       "<Figure size 432x288 with 1 Axes>"
      ]
     },
     "metadata": {},
     "output_type": "display_data"
    }
   ],
   "source": [
    "# identificando a relação do gênero com o diagnóstico de diabetes\n",
    "sns.countplot(x=df['Gender'],hue=df['class'],palette=\"Greens\")\n"
   ]
  },
  {
   "cell_type": "markdown",
   "id": "6b1afa9f",
   "metadata": {
    "ExecuteTime": {
     "end_time": "2021-08-14T21:35:33.730488Z",
     "start_time": "2021-08-14T21:35:33.717497Z"
    }
   },
   "source": [
    "Embora o número de homens no dataset seja maior, a proporção de mulheres com diagnóstico positivo é superior ao dos homens."
   ]
  },
  {
   "cell_type": "code",
   "execution_count": 22,
   "id": "6c03a98a",
   "metadata": {
    "ExecuteTime": {
     "end_time": "2021-08-17T00:58:37.362838Z",
     "start_time": "2021-08-17T00:58:37.053026Z"
    }
   },
   "outputs": [
    {
     "data": {
      "text/plain": [
       "<AxesSubplot:xlabel='Obesity', ylabel='count'>"
      ]
     },
     "execution_count": 22,
     "metadata": {},
     "output_type": "execute_result"
    },
    {
     "data": {
      "image/png": "[encoded data removed]",
      "text/plain": [
       "<Figure size 432x288 with 1 Axes>"
      ]
     },
     "metadata": {
      "needs_background": "light"
     },
     "output_type": "display_data"
    }
   ],
   "source": [
    "sns.countplot(x=df['Obesity'],hue=df['class'],palette=\"Greens\")"
   ]
  },
  {
   "cell_type": "markdown",
   "id": "d5ed2268",
   "metadata": {
    "ExecuteTime": {
     "end_time": "2021-08-14T21:42:22.575652Z",
     "start_time": "2021-08-14T21:42:22.554663Z"
    }
   },
   "source": [
    "Observa-se uma maior proporção de pessoas não obesas com diagnóstico postivo para diabetes, embora, saíbamos que a proporção de pessoas não obesas no geral é maior."
   ]
  },
  {
   "cell_type": "markdown",
   "id": "586cf47b",
   "metadata": {
    "ExecuteTime": {
     "end_time": "2021-08-14T21:43:40.517515Z",
     "start_time": "2021-08-14T21:43:40.513517Z"
    }
   },
   "source": [
    "# Identificando variáveis com maiores proporções de casos positivos"
   ]
  },
  {
   "cell_type": "markdown",
   "id": "73e47e31",
   "metadata": {
    "ExecuteTime": {
     "end_time": "2021-08-14T21:43:50.645920Z",
     "start_time": "2021-08-14T21:43:50.632927Z"
    }
   },
   "source": [
    "Iremos analisar o dataset tomando como referência os casos positivos para identificar as variáveis que tem maior proporção de ter diagnósticos positivos"
   ]
  },
  {
   "cell_type": "code",
   "execution_count": 105,
   "id": "3a8f2995",
   "metadata": {
    "ExecuteTime": {
     "end_time": "2021-08-17T23:55:03.652677Z",
     "start_time": "2021-08-17T23:55:03.635690Z"
    }
   },
   "outputs": [],
   "source": [
    "def columns_to_dummies(df):\n",
    "    '''\n",
    "    Essa função altera os labels das colunas de string para valores binários.\n",
    "    '''\n",
    "    df['class']=df['class'].replace(['Positive'],1)\n",
    "    df['class']=df['class'].replace(['Negative'],0)\n",
    "    df=df.replace(['Yes'], 1)\n",
    "    df=df.replace(['No'],0)\n",
    "    df = pd.get_dummies(df, columns = ['Gender'])\n",
    "    return df"
   ]
  },
  {
   "cell_type": "code",
   "execution_count": 106,
   "id": "1f762065",
   "metadata": {
    "ExecuteTime": {
     "end_time": "2021-08-17T23:55:04.902481Z",
     "start_time": "2021-08-17T23:55:04.858409Z"
    }
   },
   "outputs": [],
   "source": [
    "df2 = columns_to_dummies(df)"
   ]
  },
  {
   "cell_type": "code",
   "execution_count": 107,
   "id": "39479bed",
   "metadata": {
    "ExecuteTime": {
     "end_time": "2021-08-17T23:55:05.515733Z",
     "start_time": "2021-08-17T23:55:05.479756Z"
    }
   },
   "outputs": [
    {
     "data": {
      "text/html": [
       "<div>\n",
       "<style scoped>\n",
       "    .dataframe tbody tr th:only-of-type {\n",
       "        vertical-align: middle;\n",
       "    }\n",
       "\n",
       "    .dataframe tbody tr th {\n",
       "        vertical-align: top;\n",
       "    }\n",
       "\n",
       "    .dataframe thead th {\n",
       "        text-align: right;\n",
       "    }\n",
       "</style>\n",
       "<table border=\"1\" class=\"dataframe\">\n",
       "  <thead>\n",
       "    <tr style=\"text-align: right;\">\n",
       "      <th></th>\n",
       "      <th>Age</th>\n",
       "      <th>Polyuria</th>\n",
       "      <th>Polydipsia</th>\n",
       "      <th>sudden weight loss</th>\n",
       "      <th>weakness</th>\n",
       "      <th>Polyphagia</th>\n",
       "      <th>Genital thrush</th>\n",
       "      <th>visual blurring</th>\n",
       "      <th>Itching</th>\n",
       "      <th>Irritability</th>\n",
       "      <th>delayed healing</th>\n",
       "      <th>partial paresis</th>\n",
       "      <th>muscle stiffness</th>\n",
       "      <th>Alopecia</th>\n",
       "      <th>Obesity</th>\n",
       "      <th>class</th>\n",
       "      <th>Gender_Female</th>\n",
       "      <th>Gender_Male</th>\n",
       "    </tr>\n",
       "  </thead>\n",
       "  <tbody>\n",
       "    <tr>\n",
       "      <th>0</th>\n",
       "      <td>40</td>\n",
       "      <td>0</td>\n",
       "      <td>1</td>\n",
       "      <td>0</td>\n",
       "      <td>1</td>\n",
       "      <td>0</td>\n",
       "      <td>0</td>\n",
       "      <td>0</td>\n",
       "      <td>1</td>\n",
       "      <td>0</td>\n",
       "      <td>1</td>\n",
       "      <td>0</td>\n",
       "      <td>1</td>\n",
       "      <td>1</td>\n",
       "      <td>1</td>\n",
       "      <td>1</td>\n",
       "      <td>0</td>\n",
       "      <td>1</td>\n",
       "    </tr>\n",
       "    <tr>\n",
       "      <th>1</th>\n",
       "      <td>58</td>\n",
       "      <td>0</td>\n",
       "      <td>0</td>\n",
       "      <td>0</td>\n",
       "      <td>1</td>\n",
       "      <td>0</td>\n",
       "      <td>0</td>\n",
       "      <td>1</td>\n",
       "      <td>0</td>\n",
       "      <td>0</td>\n",
       "      <td>0</td>\n",
       "      <td>1</td>\n",
       "      <td>0</td>\n",
       "      <td>1</td>\n",
       "      <td>0</td>\n",
       "      <td>1</td>\n",
       "      <td>0</td>\n",
       "      <td>1</td>\n",
       "    </tr>\n",
       "    <tr>\n",
       "      <th>2</th>\n",
       "      <td>41</td>\n",
       "      <td>1</td>\n",
       "      <td>0</td>\n",
       "      <td>0</td>\n",
       "      <td>1</td>\n",
       "      <td>1</td>\n",
       "      <td>0</td>\n",
       "      <td>0</td>\n",
       "      <td>1</td>\n",
       "      <td>0</td>\n",
       "      <td>1</td>\n",
       "      <td>0</td>\n",
       "      <td>1</td>\n",
       "      <td>1</td>\n",
       "      <td>0</td>\n",
       "      <td>1</td>\n",
       "      <td>0</td>\n",
       "      <td>1</td>\n",
       "    </tr>\n",
       "    <tr>\n",
       "      <th>3</th>\n",
       "      <td>45</td>\n",
       "      <td>0</td>\n",
       "      <td>0</td>\n",
       "      <td>1</td>\n",
       "      <td>1</td>\n",
       "      <td>1</td>\n",
       "      <td>1</td>\n",
       "      <td>0</td>\n",
       "      <td>1</td>\n",
       "      <td>0</td>\n",
       "      <td>1</td>\n",
       "      <td>0</td>\n",
       "      <td>0</td>\n",
       "      <td>0</td>\n",
       "      <td>0</td>\n",
       "      <td>1</td>\n",
       "      <td>0</td>\n",
       "      <td>1</td>\n",
       "    </tr>\n",
       "    <tr>\n",
       "      <th>4</th>\n",
       "      <td>60</td>\n",
       "      <td>1</td>\n",
       "      <td>1</td>\n",
       "      <td>1</td>\n",
       "      <td>1</td>\n",
       "      <td>1</td>\n",
       "      <td>0</td>\n",
       "      <td>1</td>\n",
       "      <td>1</td>\n",
       "      <td>1</td>\n",
       "      <td>1</td>\n",
       "      <td>1</td>\n",
       "      <td>1</td>\n",
       "      <td>1</td>\n",
       "      <td>1</td>\n",
       "      <td>1</td>\n",
       "      <td>0</td>\n",
       "      <td>1</td>\n",
       "    </tr>\n",
       "    <tr>\n",
       "      <th>...</th>\n",
       "      <td>...</td>\n",
       "      <td>...</td>\n",
       "      <td>...</td>\n",
       "      <td>...</td>\n",
       "      <td>...</td>\n",
       "      <td>...</td>\n",
       "      <td>...</td>\n",
       "      <td>...</td>\n",
       "      <td>...</td>\n",
       "      <td>...</td>\n",
       "      <td>...</td>\n",
       "      <td>...</td>\n",
       "      <td>...</td>\n",
       "      <td>...</td>\n",
       "      <td>...</td>\n",
       "      <td>...</td>\n",
       "      <td>...</td>\n",
       "      <td>...</td>\n",
       "    </tr>\n",
       "    <tr>\n",
       "      <th>515</th>\n",
       "      <td>39</td>\n",
       "      <td>1</td>\n",
       "      <td>1</td>\n",
       "      <td>1</td>\n",
       "      <td>0</td>\n",
       "      <td>1</td>\n",
       "      <td>0</td>\n",
       "      <td>0</td>\n",
       "      <td>1</td>\n",
       "      <td>0</td>\n",
       "      <td>1</td>\n",
       "      <td>1</td>\n",
       "      <td>0</td>\n",
       "      <td>0</td>\n",
       "      <td>0</td>\n",
       "      <td>1</td>\n",
       "      <td>1</td>\n",
       "      <td>0</td>\n",
       "    </tr>\n",
       "    <tr>\n",
       "      <th>516</th>\n",
       "      <td>48</td>\n",
       "      <td>1</td>\n",
       "      <td>1</td>\n",
       "      <td>1</td>\n",
       "      <td>1</td>\n",
       "      <td>1</td>\n",
       "      <td>0</td>\n",
       "      <td>0</td>\n",
       "      <td>1</td>\n",
       "      <td>1</td>\n",
       "      <td>1</td>\n",
       "      <td>1</td>\n",
       "      <td>0</td>\n",
       "      <td>0</td>\n",
       "      <td>0</td>\n",
       "      <td>1</td>\n",
       "      <td>1</td>\n",
       "      <td>0</td>\n",
       "    </tr>\n",
       "    <tr>\n",
       "      <th>517</th>\n",
       "      <td>58</td>\n",
       "      <td>1</td>\n",
       "      <td>1</td>\n",
       "      <td>1</td>\n",
       "      <td>1</td>\n",
       "      <td>1</td>\n",
       "      <td>0</td>\n",
       "      <td>1</td>\n",
       "      <td>0</td>\n",
       "      <td>0</td>\n",
       "      <td>0</td>\n",
       "      <td>1</td>\n",
       "      <td>1</td>\n",
       "      <td>0</td>\n",
       "      <td>1</td>\n",
       "      <td>1</td>\n",
       "      <td>1</td>\n",
       "      <td>0</td>\n",
       "    </tr>\n",
       "    <tr>\n",
       "      <th>518</th>\n",
       "      <td>32</td>\n",
       "      <td>0</td>\n",
       "      <td>0</td>\n",
       "      <td>0</td>\n",
       "      <td>1</td>\n",
       "      <td>0</td>\n",
       "      <td>0</td>\n",
       "      <td>1</td>\n",
       "      <td>1</td>\n",
       "      <td>0</td>\n",
       "      <td>1</td>\n",
       "      <td>0</td>\n",
       "      <td>0</td>\n",
       "      <td>1</td>\n",
       "      <td>0</td>\n",
       "      <td>0</td>\n",
       "      <td>1</td>\n",
       "      <td>0</td>\n",
       "    </tr>\n",
       "    <tr>\n",
       "      <th>519</th>\n",
       "      <td>42</td>\n",
       "      <td>0</td>\n",
       "      <td>0</td>\n",
       "      <td>0</td>\n",
       "      <td>0</td>\n",
       "      <td>0</td>\n",
       "      <td>0</td>\n",
       "      <td>0</td>\n",
       "      <td>0</td>\n",
       "      <td>0</td>\n",
       "      <td>0</td>\n",
       "      <td>0</td>\n",
       "      <td>0</td>\n",
       "      <td>0</td>\n",
       "      <td>0</td>\n",
       "      <td>0</td>\n",
       "      <td>0</td>\n",
       "      <td>1</td>\n",
       "    </tr>\n",
       "  </tbody>\n",
       "</table>\n",
       "<p>520 rows × 18 columns</p>\n",
       "</div>"
      ],
      "text/plain": [
       "     Age  Polyuria  Polydipsia  sudden weight loss  weakness  Polyphagia  \\\n",
       "0     40         0           1                   0         1           0   \n",
       "1     58         0           0                   0         1           0   \n",
       "2     41         1           0                   0         1           1   \n",
       "3     45         0           0                   1         1           1   \n",
       "4     60         1           1                   1         1           1   \n",
       "..   ...       ...         ...                 ...       ...         ...   \n",
       "515   39         1           1                   1         0           1   \n",
       "516   48         1           1                   1         1           1   \n",
       "517   58         1           1                   1         1           1   \n",
       "518   32         0           0                   0         1           0   \n",
       "519   42         0           0                   0         0           0   \n",
       "\n",
       "     Genital thrush  visual blurring  Itching  Irritability  delayed healing  \\\n",
       "0                 0                0        1             0                1   \n",
       "1                 0                1        0             0                0   \n",
       "2                 0                0        1             0                1   \n",
       "3                 1                0        1             0                1   \n",
       "4                 0                1        1             1                1   \n",
       "..              ...              ...      ...           ...              ...   \n",
       "515               0                0        1             0                1   \n",
       "516               0                0        1             1                1   \n",
       "517               0                1        0             0                0   \n",
       "518               0                1        1             0                1   \n",
       "519               0                0        0             0                0   \n",
       "\n",
       "     partial paresis  muscle stiffness  Alopecia  Obesity  class  \\\n",
       "0                  0                 1         1        1      1   \n",
       "1                  1                 0         1        0      1   \n",
       "2                  0                 1         1        0      1   \n",
       "3                  0                 0         0        0      1   \n",
       "4                  1                 1         1        1      1   \n",
       "..               ...               ...       ...      ...    ...   \n",
       "515                1                 0         0        0      1   \n",
       "516                1                 0         0        0      1   \n",
       "517                1                 1         0        1      1   \n",
       "518                0                 0         1        0      0   \n",
       "519                0                 0         0        0      0   \n",
       "\n",
       "     Gender_Female  Gender_Male  \n",
       "0                0            1  \n",
       "1                0            1  \n",
       "2                0            1  \n",
       "3                0            1  \n",
       "4                0            1  \n",
       "..             ...          ...  \n",
       "515              1            0  \n",
       "516              1            0  \n",
       "517              1            0  \n",
       "518              1            0  \n",
       "519              0            1  \n",
       "\n",
       "[520 rows x 18 columns]"
      ]
     },
     "execution_count": 107,
     "metadata": {},
     "output_type": "execute_result"
    }
   ],
   "source": [
    "df2"
   ]
  },
  {
   "cell_type": "code",
   "execution_count": 108,
   "id": "0905afda",
   "metadata": {
    "ExecuteTime": {
     "end_time": "2021-08-17T23:55:06.101226Z",
     "start_time": "2021-08-17T23:55:06.073244Z"
    }
   },
   "outputs": [],
   "source": [
    "# calculando a proporção de casos positivos e relacionando com os inputs\n",
    "class_positive=df2.loc[df2['class'] == 1]\n",
    "positives_total=df2.sum()\n",
    "positives_per_feat=class_positive.sum()/positives_total"
   ]
  },
  {
   "cell_type": "code",
   "execution_count": 109,
   "id": "bbaa4828",
   "metadata": {
    "ExecuteTime": {
     "end_time": "2021-08-17T23:55:06.494352Z",
     "start_time": "2021-08-17T23:55:06.489357Z"
    }
   },
   "outputs": [],
   "source": [
    "positives_per_feat.pop('class');"
   ]
  },
  {
   "cell_type": "code",
   "execution_count": 110,
   "id": "bd120a91",
   "metadata": {
    "ExecuteTime": {
     "end_time": "2021-08-17T23:55:07.042400Z",
     "start_time": "2021-08-17T23:55:07.017416Z"
    }
   },
   "outputs": [
    {
     "data": {
      "text/plain": [
       "Polydipsia            0.965665\n",
       "Polyuria              0.941860\n",
       "Gender_Female         0.901042\n",
       "Irritability          0.873016\n",
       "sudden weight loss    0.866359\n",
       "partial paresis       0.857143\n",
       "Polyphagia            0.797468\n",
       "visual blurring       0.751073\n",
       "Genital thrush        0.715517\n",
       "weakness              0.714754\n",
       "Obesity               0.693182\n",
       "muscle stiffness      0.692308\n",
       "delayed healing       0.640167\n",
       "Age                   0.628749\n",
       "Itching               0.608696\n",
       "Gender_Male           0.448171\n",
       "Alopecia              0.435754\n",
       "dtype: float64"
      ]
     },
     "execution_count": 110,
     "metadata": {},
     "output_type": "execute_result"
    }
   ],
   "source": [
    "positives_per_feat.sort_values(ascending=False)"
   ]
  },
  {
   "cell_type": "code",
   "execution_count": 111,
   "id": "5e952df0",
   "metadata": {
    "ExecuteTime": {
     "end_time": "2021-08-17T23:55:07.547336Z",
     "start_time": "2021-08-17T23:55:07.530351Z"
    }
   },
   "outputs": [],
   "source": [
    "percentages = pd.DataFrame(positives_per_feat.sort_values(ascending=False))"
   ]
  },
  {
   "cell_type": "code",
   "execution_count": 112,
   "id": "e1c3db57",
   "metadata": {
    "ExecuteTime": {
     "end_time": "2021-08-17T23:55:09.031056Z",
     "start_time": "2021-08-17T23:55:07.898343Z"
    }
   },
   "outputs": [
    {
     "name": "stderr",
     "output_type": "stream",
     "text": [
      "Pass the following variables as keyword args: x, y. From version 0.12, the only valid positional argument will be `data`, and passing other arguments without an explicit keyword will result in an error or misinterpretation.\n"
     ]
    },
    {
     "data": {
      "image/png": "[encoded data removed]",
      "text/plain": [
       "<Figure size 1584x1008 with 1 Axes>"
      ]
     },
     "metadata": {},
     "output_type": "display_data"
    }
   ],
   "source": [
    "plt.figure(figsize=(22,14))\n",
    "\n",
    "sns.set(font_scale=1.4)\n",
    "sns.barplot(percentages.index,percentages[0])\n",
    "plt.xticks(rotation=45)\n",
    "plt.xlabel('Variáveis',fontsize=18)\n",
    "plt.ylabel('Porcentagem de Casos Positivos',fontsize=18);\n",
    "plt.savefig('../figures/most_important_features.png',dpi=100,bbox_inches='tight')"
   ]
  },
  {
   "cell_type": "markdown",
   "id": "bed4fa20",
   "metadata": {
    "ExecuteTime": {
     "end_time": "2021-08-14T22:33:31.442843Z",
     "start_time": "2021-08-14T22:33:31.439844Z"
    }
   },
   "source": [
    "Podemos constatar pela proporção de casos positivos para cada uma das variáveis que a Polydipsia, Polyuria e o Gênero  são as variáveis que mais contribuem para diagnósticos positivos. Os casos de alopecia são os que estão menos relacionados ao diganóstico positivo de diabetes. Resultado similar pode ser identificado na correlação dessas variáveis"
   ]
  },
  {
   "cell_type": "code",
   "execution_count": 113,
   "id": "b9b6a9be",
   "metadata": {
    "ExecuteTime": {
     "end_time": "2021-08-17T23:55:09.063037Z",
     "start_time": "2021-08-17T23:55:09.034055Z"
    }
   },
   "outputs": [
    {
     "data": {
      "text/html": [
       "<div>\n",
       "<style scoped>\n",
       "    .dataframe tbody tr th:only-of-type {\n",
       "        vertical-align: middle;\n",
       "    }\n",
       "\n",
       "    .dataframe tbody tr th {\n",
       "        vertical-align: top;\n",
       "    }\n",
       "\n",
       "    .dataframe thead th {\n",
       "        text-align: right;\n",
       "    }\n",
       "</style>\n",
       "<table border=\"1\" class=\"dataframe\">\n",
       "  <thead>\n",
       "    <tr style=\"text-align: right;\">\n",
       "      <th></th>\n",
       "      <th>class</th>\n",
       "    </tr>\n",
       "  </thead>\n",
       "  <tbody>\n",
       "    <tr>\n",
       "      <th>Polyuria</th>\n",
       "      <td>0.665922</td>\n",
       "    </tr>\n",
       "    <tr>\n",
       "      <th>Polydipsia</th>\n",
       "      <td>0.648734</td>\n",
       "    </tr>\n",
       "    <tr>\n",
       "      <th>Gender_Female</th>\n",
       "      <td>0.449233</td>\n",
       "    </tr>\n",
       "    <tr>\n",
       "      <th>sudden weight loss</th>\n",
       "      <td>0.436568</td>\n",
       "    </tr>\n",
       "    <tr>\n",
       "      <th>partial paresis</th>\n",
       "      <td>0.432288</td>\n",
       "    </tr>\n",
       "    <tr>\n",
       "      <th>Polyphagia</th>\n",
       "      <td>0.342504</td>\n",
       "    </tr>\n",
       "    <tr>\n",
       "      <th>Irritability</th>\n",
       "      <td>0.299467</td>\n",
       "    </tr>\n",
       "    <tr>\n",
       "      <th>visual blurring</th>\n",
       "      <td>0.251300</td>\n",
       "    </tr>\n",
       "    <tr>\n",
       "      <th>weakness</th>\n",
       "      <td>0.243275</td>\n",
       "    </tr>\n",
       "    <tr>\n",
       "      <th>muscle stiffness</th>\n",
       "      <td>0.122474</td>\n",
       "    </tr>\n",
       "    <tr>\n",
       "      <th>Genital thrush</th>\n",
       "      <td>0.110288</td>\n",
       "    </tr>\n",
       "    <tr>\n",
       "      <th>Age</th>\n",
       "      <td>0.108679</td>\n",
       "    </tr>\n",
       "    <tr>\n",
       "      <th>Obesity</th>\n",
       "      <td>0.072173</td>\n",
       "    </tr>\n",
       "    <tr>\n",
       "      <th>delayed healing</th>\n",
       "      <td>0.046980</td>\n",
       "    </tr>\n",
       "    <tr>\n",
       "      <th>Itching</th>\n",
       "      <td>-0.013384</td>\n",
       "    </tr>\n",
       "    <tr>\n",
       "      <th>Alopecia</th>\n",
       "      <td>-0.267512</td>\n",
       "    </tr>\n",
       "    <tr>\n",
       "      <th>Gender_Male</th>\n",
       "      <td>-0.449233</td>\n",
       "    </tr>\n",
       "  </tbody>\n",
       "</table>\n",
       "</div>"
      ],
      "text/plain": [
       "                       class\n",
       "Polyuria            0.665922\n",
       "Polydipsia          0.648734\n",
       "Gender_Female       0.449233\n",
       "sudden weight loss  0.436568\n",
       "partial paresis     0.432288\n",
       "Polyphagia          0.342504\n",
       "Irritability        0.299467\n",
       "visual blurring     0.251300\n",
       "weakness            0.243275\n",
       "muscle stiffness    0.122474\n",
       "Genital thrush      0.110288\n",
       "Age                 0.108679\n",
       "Obesity             0.072173\n",
       "delayed healing     0.046980\n",
       "Itching            -0.013384\n",
       "Alopecia           -0.267512\n",
       "Gender_Male        -0.449233"
      ]
     },
     "execution_count": 113,
     "metadata": {},
     "output_type": "execute_result"
    }
   ],
   "source": [
    "correlation = df2.corr()[\"class\"].to_frame()\n",
    "correlation.sort_values(by='class',ascending=False)[1:]"
   ]
  },
  {
   "cell_type": "markdown",
   "id": "7ec05e61",
   "metadata": {
    "ExecuteTime": {
     "end_time": "2021-08-15T00:35:32.288816Z",
     "start_time": "2021-08-15T00:35:32.275822Z"
    }
   },
   "source": [
    "● Qual a chance de uma pessoa do sexo masculino com menos de 40 anos ter o diagnóstico positivo de diabetes?\n",
    "\n",
    "● Qual a relação entre Polyphagia e o diagnóstico de diabetes"
   ]
  },
  {
   "cell_type": "code",
   "execution_count": 114,
   "id": "edfd7b48",
   "metadata": {
    "ExecuteTime": {
     "end_time": "2021-08-17T23:55:09.752143Z",
     "start_time": "2021-08-17T23:55:09.739150Z"
    }
   },
   "outputs": [],
   "source": [
    "age_bin = pd.cut(df2.Age,bins=[0,39,99],labels=['younger_than_40','older_than_40'])\n",
    "df2.insert(2,'Age_Group',age_bin)\n"
   ]
  },
  {
   "cell_type": "code",
   "execution_count": 115,
   "id": "e6358851",
   "metadata": {
    "ExecuteTime": {
     "end_time": "2021-08-17T23:55:10.377445Z",
     "start_time": "2021-08-17T23:55:10.348950Z"
    }
   },
   "outputs": [
    {
     "data": {
      "text/html": [
       "<div>\n",
       "<style scoped>\n",
       "    .dataframe tbody tr th:only-of-type {\n",
       "        vertical-align: middle;\n",
       "    }\n",
       "\n",
       "    .dataframe tbody tr th {\n",
       "        vertical-align: top;\n",
       "    }\n",
       "\n",
       "    .dataframe thead th {\n",
       "        text-align: right;\n",
       "    }\n",
       "</style>\n",
       "<table border=\"1\" class=\"dataframe\">\n",
       "  <thead>\n",
       "    <tr style=\"text-align: right;\">\n",
       "      <th></th>\n",
       "      <th>Age</th>\n",
       "      <th>Polyuria</th>\n",
       "      <th>Age_Group</th>\n",
       "      <th>Polydipsia</th>\n",
       "      <th>sudden weight loss</th>\n",
       "      <th>weakness</th>\n",
       "      <th>Polyphagia</th>\n",
       "      <th>Genital thrush</th>\n",
       "      <th>visual blurring</th>\n",
       "      <th>Itching</th>\n",
       "      <th>Irritability</th>\n",
       "      <th>delayed healing</th>\n",
       "      <th>partial paresis</th>\n",
       "      <th>muscle stiffness</th>\n",
       "      <th>Alopecia</th>\n",
       "      <th>Obesity</th>\n",
       "      <th>class</th>\n",
       "      <th>Gender_Female</th>\n",
       "      <th>Gender_Male</th>\n",
       "    </tr>\n",
       "  </thead>\n",
       "  <tbody>\n",
       "    <tr>\n",
       "      <th>0</th>\n",
       "      <td>40</td>\n",
       "      <td>0</td>\n",
       "      <td>older_than_40</td>\n",
       "      <td>1</td>\n",
       "      <td>0</td>\n",
       "      <td>1</td>\n",
       "      <td>0</td>\n",
       "      <td>0</td>\n",
       "      <td>0</td>\n",
       "      <td>1</td>\n",
       "      <td>0</td>\n",
       "      <td>1</td>\n",
       "      <td>0</td>\n",
       "      <td>1</td>\n",
       "      <td>1</td>\n",
       "      <td>1</td>\n",
       "      <td>1</td>\n",
       "      <td>0</td>\n",
       "      <td>1</td>\n",
       "    </tr>\n",
       "    <tr>\n",
       "      <th>1</th>\n",
       "      <td>58</td>\n",
       "      <td>0</td>\n",
       "      <td>older_than_40</td>\n",
       "      <td>0</td>\n",
       "      <td>0</td>\n",
       "      <td>1</td>\n",
       "      <td>0</td>\n",
       "      <td>0</td>\n",
       "      <td>1</td>\n",
       "      <td>0</td>\n",
       "      <td>0</td>\n",
       "      <td>0</td>\n",
       "      <td>1</td>\n",
       "      <td>0</td>\n",
       "      <td>1</td>\n",
       "      <td>0</td>\n",
       "      <td>1</td>\n",
       "      <td>0</td>\n",
       "      <td>1</td>\n",
       "    </tr>\n",
       "    <tr>\n",
       "      <th>2</th>\n",
       "      <td>41</td>\n",
       "      <td>1</td>\n",
       "      <td>older_than_40</td>\n",
       "      <td>0</td>\n",
       "      <td>0</td>\n",
       "      <td>1</td>\n",
       "      <td>1</td>\n",
       "      <td>0</td>\n",
       "      <td>0</td>\n",
       "      <td>1</td>\n",
       "      <td>0</td>\n",
       "      <td>1</td>\n",
       "      <td>0</td>\n",
       "      <td>1</td>\n",
       "      <td>1</td>\n",
       "      <td>0</td>\n",
       "      <td>1</td>\n",
       "      <td>0</td>\n",
       "      <td>1</td>\n",
       "    </tr>\n",
       "    <tr>\n",
       "      <th>3</th>\n",
       "      <td>45</td>\n",
       "      <td>0</td>\n",
       "      <td>older_than_40</td>\n",
       "      <td>0</td>\n",
       "      <td>1</td>\n",
       "      <td>1</td>\n",
       "      <td>1</td>\n",
       "      <td>1</td>\n",
       "      <td>0</td>\n",
       "      <td>1</td>\n",
       "      <td>0</td>\n",
       "      <td>1</td>\n",
       "      <td>0</td>\n",
       "      <td>0</td>\n",
       "      <td>0</td>\n",
       "      <td>0</td>\n",
       "      <td>1</td>\n",
       "      <td>0</td>\n",
       "      <td>1</td>\n",
       "    </tr>\n",
       "    <tr>\n",
       "      <th>4</th>\n",
       "      <td>60</td>\n",
       "      <td>1</td>\n",
       "      <td>older_than_40</td>\n",
       "      <td>1</td>\n",
       "      <td>1</td>\n",
       "      <td>1</td>\n",
       "      <td>1</td>\n",
       "      <td>0</td>\n",
       "      <td>1</td>\n",
       "      <td>1</td>\n",
       "      <td>1</td>\n",
       "      <td>1</td>\n",
       "      <td>1</td>\n",
       "      <td>1</td>\n",
       "      <td>1</td>\n",
       "      <td>1</td>\n",
       "      <td>1</td>\n",
       "      <td>0</td>\n",
       "      <td>1</td>\n",
       "    </tr>\n",
       "    <tr>\n",
       "      <th>5</th>\n",
       "      <td>55</td>\n",
       "      <td>1</td>\n",
       "      <td>older_than_40</td>\n",
       "      <td>1</td>\n",
       "      <td>0</td>\n",
       "      <td>1</td>\n",
       "      <td>1</td>\n",
       "      <td>0</td>\n",
       "      <td>1</td>\n",
       "      <td>1</td>\n",
       "      <td>0</td>\n",
       "      <td>1</td>\n",
       "      <td>0</td>\n",
       "      <td>1</td>\n",
       "      <td>1</td>\n",
       "      <td>1</td>\n",
       "      <td>1</td>\n",
       "      <td>0</td>\n",
       "      <td>1</td>\n",
       "    </tr>\n",
       "    <tr>\n",
       "      <th>6</th>\n",
       "      <td>57</td>\n",
       "      <td>1</td>\n",
       "      <td>older_than_40</td>\n",
       "      <td>1</td>\n",
       "      <td>0</td>\n",
       "      <td>1</td>\n",
       "      <td>1</td>\n",
       "      <td>1</td>\n",
       "      <td>0</td>\n",
       "      <td>0</td>\n",
       "      <td>0</td>\n",
       "      <td>1</td>\n",
       "      <td>1</td>\n",
       "      <td>0</td>\n",
       "      <td>0</td>\n",
       "      <td>0</td>\n",
       "      <td>1</td>\n",
       "      <td>0</td>\n",
       "      <td>1</td>\n",
       "    </tr>\n",
       "    <tr>\n",
       "      <th>7</th>\n",
       "      <td>66</td>\n",
       "      <td>1</td>\n",
       "      <td>older_than_40</td>\n",
       "      <td>1</td>\n",
       "      <td>1</td>\n",
       "      <td>1</td>\n",
       "      <td>0</td>\n",
       "      <td>0</td>\n",
       "      <td>1</td>\n",
       "      <td>1</td>\n",
       "      <td>1</td>\n",
       "      <td>0</td>\n",
       "      <td>1</td>\n",
       "      <td>1</td>\n",
       "      <td>0</td>\n",
       "      <td>0</td>\n",
       "      <td>1</td>\n",
       "      <td>0</td>\n",
       "      <td>1</td>\n",
       "    </tr>\n",
       "    <tr>\n",
       "      <th>8</th>\n",
       "      <td>67</td>\n",
       "      <td>1</td>\n",
       "      <td>older_than_40</td>\n",
       "      <td>1</td>\n",
       "      <td>0</td>\n",
       "      <td>1</td>\n",
       "      <td>1</td>\n",
       "      <td>1</td>\n",
       "      <td>0</td>\n",
       "      <td>1</td>\n",
       "      <td>1</td>\n",
       "      <td>0</td>\n",
       "      <td>1</td>\n",
       "      <td>1</td>\n",
       "      <td>0</td>\n",
       "      <td>1</td>\n",
       "      <td>1</td>\n",
       "      <td>0</td>\n",
       "      <td>1</td>\n",
       "    </tr>\n",
       "    <tr>\n",
       "      <th>9</th>\n",
       "      <td>70</td>\n",
       "      <td>0</td>\n",
       "      <td>older_than_40</td>\n",
       "      <td>1</td>\n",
       "      <td>1</td>\n",
       "      <td>1</td>\n",
       "      <td>1</td>\n",
       "      <td>0</td>\n",
       "      <td>1</td>\n",
       "      <td>1</td>\n",
       "      <td>1</td>\n",
       "      <td>0</td>\n",
       "      <td>0</td>\n",
       "      <td>0</td>\n",
       "      <td>1</td>\n",
       "      <td>0</td>\n",
       "      <td>1</td>\n",
       "      <td>0</td>\n",
       "      <td>1</td>\n",
       "    </tr>\n",
       "    <tr>\n",
       "      <th>10</th>\n",
       "      <td>44</td>\n",
       "      <td>1</td>\n",
       "      <td>older_than_40</td>\n",
       "      <td>1</td>\n",
       "      <td>0</td>\n",
       "      <td>1</td>\n",
       "      <td>0</td>\n",
       "      <td>1</td>\n",
       "      <td>0</td>\n",
       "      <td>0</td>\n",
       "      <td>1</td>\n",
       "      <td>1</td>\n",
       "      <td>0</td>\n",
       "      <td>1</td>\n",
       "      <td>1</td>\n",
       "      <td>0</td>\n",
       "      <td>1</td>\n",
       "      <td>0</td>\n",
       "      <td>1</td>\n",
       "    </tr>\n",
       "    <tr>\n",
       "      <th>11</th>\n",
       "      <td>38</td>\n",
       "      <td>1</td>\n",
       "      <td>younger_than_40</td>\n",
       "      <td>1</td>\n",
       "      <td>0</td>\n",
       "      <td>0</td>\n",
       "      <td>1</td>\n",
       "      <td>1</td>\n",
       "      <td>0</td>\n",
       "      <td>1</td>\n",
       "      <td>0</td>\n",
       "      <td>1</td>\n",
       "      <td>0</td>\n",
       "      <td>1</td>\n",
       "      <td>0</td>\n",
       "      <td>0</td>\n",
       "      <td>1</td>\n",
       "      <td>0</td>\n",
       "      <td>1</td>\n",
       "    </tr>\n",
       "  </tbody>\n",
       "</table>\n",
       "</div>"
      ],
      "text/plain": [
       "    Age  Polyuria        Age_Group  Polydipsia  sudden weight loss  weakness  \\\n",
       "0    40         0    older_than_40           1                   0         1   \n",
       "1    58         0    older_than_40           0                   0         1   \n",
       "2    41         1    older_than_40           0                   0         1   \n",
       "3    45         0    older_than_40           0                   1         1   \n",
       "4    60         1    older_than_40           1                   1         1   \n",
       "5    55         1    older_than_40           1                   0         1   \n",
       "6    57         1    older_than_40           1                   0         1   \n",
       "7    66         1    older_than_40           1                   1         1   \n",
       "8    67         1    older_than_40           1                   0         1   \n",
       "9    70         0    older_than_40           1                   1         1   \n",
       "10   44         1    older_than_40           1                   0         1   \n",
       "11   38         1  younger_than_40           1                   0         0   \n",
       "\n",
       "    Polyphagia  Genital thrush  visual blurring  Itching  Irritability  \\\n",
       "0            0               0                0        1             0   \n",
       "1            0               0                1        0             0   \n",
       "2            1               0                0        1             0   \n",
       "3            1               1                0        1             0   \n",
       "4            1               0                1        1             1   \n",
       "5            1               0                1        1             0   \n",
       "6            1               1                0        0             0   \n",
       "7            0               0                1        1             1   \n",
       "8            1               1                0        1             1   \n",
       "9            1               0                1        1             1   \n",
       "10           0               1                0        0             1   \n",
       "11           1               1                0        1             0   \n",
       "\n",
       "    delayed healing  partial paresis  muscle stiffness  Alopecia  Obesity  \\\n",
       "0                 1                0                 1         1        1   \n",
       "1                 0                1                 0         1        0   \n",
       "2                 1                0                 1         1        0   \n",
       "3                 1                0                 0         0        0   \n",
       "4                 1                1                 1         1        1   \n",
       "5                 1                0                 1         1        1   \n",
       "6                 1                1                 0         0        0   \n",
       "7                 0                1                 1         0        0   \n",
       "8                 0                1                 1         0        1   \n",
       "9                 0                0                 0         1        0   \n",
       "10                1                0                 1         1        0   \n",
       "11                1                0                 1         0        0   \n",
       "\n",
       "    class  Gender_Female  Gender_Male  \n",
       "0       1              0            1  \n",
       "1       1              0            1  \n",
       "2       1              0            1  \n",
       "3       1              0            1  \n",
       "4       1              0            1  \n",
       "5       1              0            1  \n",
       "6       1              0            1  \n",
       "7       1              0            1  \n",
       "8       1              0            1  \n",
       "9       1              0            1  \n",
       "10      1              0            1  \n",
       "11      1              0            1  "
      ]
     },
     "execution_count": 115,
     "metadata": {},
     "output_type": "execute_result"
    }
   ],
   "source": [
    "df2.head(12)"
   ]
  },
  {
   "cell_type": "code",
   "execution_count": 116,
   "id": "85bee5b1",
   "metadata": {
    "ExecuteTime": {
     "end_time": "2021-08-17T23:55:10.913420Z",
     "start_time": "2021-08-17T23:55:10.892437Z"
    }
   },
   "outputs": [
    {
     "data": {
      "text/plain": [
       "older_than_40      376\n",
       "younger_than_40    144\n",
       "Name: Age_Group, dtype: int64"
      ]
     },
     "execution_count": 116,
     "metadata": {},
     "output_type": "execute_result"
    }
   ],
   "source": [
    "df2['Age_Group'].value_counts()"
   ]
  },
  {
   "cell_type": "code",
   "execution_count": 117,
   "id": "2a9f9010",
   "metadata": {
    "ExecuteTime": {
     "end_time": "2021-08-17T23:55:11.525082Z",
     "start_time": "2021-08-17T23:55:11.505098Z"
    }
   },
   "outputs": [
    {
     "data": {
      "text/plain": [
       "Gender_Male  Age_Group        class\n",
       "0            younger_than_40  1         56\n",
       "                              0          7\n",
       "             older_than_40    1        117\n",
       "                              0         12\n",
       "1            younger_than_40  0         52\n",
       "                              1         29\n",
       "             older_than_40    0        129\n",
       "                              1        118\n",
       "Name: count, dtype: int64"
      ]
     },
     "execution_count": 117,
     "metadata": {},
     "output_type": "execute_result"
    }
   ],
   "source": [
    "df2.groupby(['Gender_Male', 'Age_Group'])['class'].value_counts().rename(\"count\")"
   ]
  },
  {
   "cell_type": "code",
   "execution_count": 118,
   "id": "dd3d74a6",
   "metadata": {
    "ExecuteTime": {
     "end_time": "2021-08-17T23:55:12.088296Z",
     "start_time": "2021-08-17T23:55:12.065308Z"
    }
   },
   "outputs": [
    {
     "data": {
      "text/plain": [
       "Gender_Male  Age_Group        class\n",
       "0            younger_than_40  1        0.888889\n",
       "                              0        0.111111\n",
       "             older_than_40    1        0.906977\n",
       "                              0        0.093023\n",
       "1            younger_than_40  0        0.641975\n",
       "                              1        0.358025\n",
       "             older_than_40    0        0.522267\n",
       "                              1        0.477733\n",
       "Name: count, dtype: float64"
      ]
     },
     "execution_count": 118,
     "metadata": {},
     "output_type": "execute_result"
    }
   ],
   "source": [
    "df2.groupby(['Gender_Male', 'Age_Group'])['class'].value_counts(normalize=True).rename(\"count\")"
   ]
  },
  {
   "cell_type": "markdown",
   "id": "bd056c6b",
   "metadata": {},
   "source": [
    "Aproximadamente, 35% dos homens com idade inferior a 40 anos possuem chance de ter um diagnóstico positivo para diabetes"
   ]
  },
  {
   "cell_type": "code",
   "execution_count": 119,
   "id": "a02a65e5",
   "metadata": {
    "ExecuteTime": {
     "end_time": "2021-08-17T23:55:13.273030Z",
     "start_time": "2021-08-17T23:55:13.251043Z"
    },
    "scrolled": true
   },
   "outputs": [
    {
     "data": {
      "text/plain": [
       "Polyphagia  class\n",
       "0           0        152\n",
       "            1        131\n",
       "1           1        189\n",
       "            0         48\n",
       "Name: class, dtype: int64"
      ]
     },
     "execution_count": 119,
     "metadata": {},
     "output_type": "execute_result"
    }
   ],
   "source": [
    "# Avaliando os dados de Polyphagia\n",
    "df2.groupby(['Polyphagia'])['class'].value_counts()"
   ]
  },
  {
   "cell_type": "code",
   "execution_count": 120,
   "id": "236ca914",
   "metadata": {
    "ExecuteTime": {
     "end_time": "2021-08-17T23:55:13.837094Z",
     "start_time": "2021-08-17T23:55:13.810113Z"
    },
    "scrolled": false
   },
   "outputs": [
    {
     "data": {
      "text/plain": [
       "Polyphagia  class\n",
       "0           0        0.537102\n",
       "            1        0.462898\n",
       "1           1        0.797468\n",
       "            0        0.202532\n",
       "Name: class, dtype: float64"
      ]
     },
     "execution_count": 120,
     "metadata": {},
     "output_type": "execute_result"
    }
   ],
   "source": [
    "df2.groupby(['Polyphagia'])['class'].value_counts(normalize=True)"
   ]
  },
  {
   "cell_type": "code",
   "execution_count": 121,
   "id": "53897801",
   "metadata": {
    "ExecuteTime": {
     "end_time": "2021-08-17T23:55:36.907384Z",
     "start_time": "2021-08-17T23:55:36.306105Z"
    }
   },
   "outputs": [
    {
     "data": {
      "text/plain": [
       "<AxesSubplot:xlabel='class', ylabel='prop'>"
      ]
     },
     "execution_count": 121,
     "metadata": {},
     "output_type": "execute_result"
    },
    {
     "data": {
      "image/png": "[encoded data removed]",
      "text/plain": [
       "<Figure size 432x288 with 1 Axes>"
      ]
     },
     "metadata": {},
     "output_type": "display_data"
    }
   ],
   "source": [
    "prop_df = (df2['class']\n",
    "           .groupby(df2['Polyphagia'])\n",
    "           .value_counts(normalize=True)\n",
    "           .rename('prop')\n",
    "           .reset_index())\n",
    "\n",
    "sns.barplot(x='class', y='prop', hue='Polyphagia', data=prop_df,order=df2['class'].value_counts().index,palette=\"Greens\")"
   ]
  },
  {
   "cell_type": "markdown",
   "id": "cebfdff0",
   "metadata": {
    "ExecuteTime": {
     "end_time": "2021-08-15T12:12:13.119467Z",
     "start_time": "2021-08-15T12:12:13.105474Z"
    }
   },
   "source": [
    "Observa-se que, aproximadamente, 80% das pessoas que possuem Polyphagia tem o diagnóstico positivo para diabetes, embora, a sua importância no diagnóstico como visto, anteriomente, não seja tão alta."
   ]
  },
  {
   "cell_type": "markdown",
   "id": "b7fa6b1b",
   "metadata": {
    "ExecuteTime": {
     "end_time": "2021-08-15T12:14:45.624710Z",
     "start_time": "2021-08-15T12:14:45.620712Z"
    }
   },
   "source": [
    "# Processamento dos dados"
   ]
  },
  {
   "cell_type": "code",
   "execution_count": 40,
   "id": "e1b9dbb5",
   "metadata": {
    "ExecuteTime": {
     "end_time": "2021-08-17T00:58:40.181099Z",
     "start_time": "2021-08-17T00:58:39.798336Z"
    }
   },
   "outputs": [
    {
     "data": {
      "image/png": "[encoded data removed]",
      "text/plain": [
       "<Figure size 432x288 with 1 Axes>"
      ]
     },
     "metadata": {},
     "output_type": "display_data"
    }
   ],
   "source": [
    "df2['Age'].hist();"
   ]
  },
  {
   "cell_type": "code",
   "execution_count": 41,
   "id": "4334db96",
   "metadata": {
    "ExecuteTime": {
     "end_time": "2021-08-17T00:58:40.196088Z",
     "start_time": "2021-08-17T00:58:40.185094Z"
    }
   },
   "outputs": [
    {
     "data": {
      "text/plain": [
       "49.071875"
      ]
     },
     "execution_count": 41,
     "metadata": {},
     "output_type": "execute_result"
    }
   ],
   "source": [
    "df2.groupby(['class'])['Age'].mean()[1]"
   ]
  },
  {
   "cell_type": "code",
   "execution_count": 42,
   "id": "00a6b2ae",
   "metadata": {
    "ExecuteTime": {
     "end_time": "2021-08-17T00:58:40.228071Z",
     "start_time": "2021-08-17T00:58:40.209080Z"
    },
    "scrolled": true
   },
   "outputs": [
    {
     "data": {
      "text/plain": [
       "class\n",
       "0    46.360000\n",
       "1    49.071875\n",
       "Name: Age, dtype: float64"
      ]
     },
     "execution_count": 42,
     "metadata": {},
     "output_type": "execute_result"
    }
   ],
   "source": [
    "# A maioria dos casos positivos tem em média 49 anos ou mais\n",
    "df2.groupby(['class'])['Age'].mean()\n"
   ]
  },
  {
   "cell_type": "markdown",
   "id": "d32e8fd7",
   "metadata": {},
   "source": [
    "A idade, inicialmente, será considerada no modelo da seguinte forma: pessoas acima de 49 anos e pessoas abaixo de 49 anos. Em média, pessoas com idade igual ou superior a 49 anos podem ter o diagnóstico positivo para diabetes"
   ]
  },
  {
   "cell_type": "code",
   "execution_count": 43,
   "id": "b6cd4dd6",
   "metadata": {
    "ExecuteTime": {
     "end_time": "2021-08-17T00:58:40.846687Z",
     "start_time": "2021-08-17T00:58:40.837696Z"
    }
   },
   "outputs": [],
   "source": [
    "df2['Age_49'] =  [1 if x >= 49  else 0 for x in df2.Age.values]"
   ]
  },
  {
   "cell_type": "code",
   "execution_count": 44,
   "id": "117a3779",
   "metadata": {
    "ExecuteTime": {
     "end_time": "2021-08-17T00:58:41.179481Z",
     "start_time": "2021-08-17T00:58:41.130519Z"
    }
   },
   "outputs": [
    {
     "data": {
      "text/html": [
       "<div>\n",
       "<style scoped>\n",
       "    .dataframe tbody tr th:only-of-type {\n",
       "        vertical-align: middle;\n",
       "    }\n",
       "\n",
       "    .dataframe tbody tr th {\n",
       "        vertical-align: top;\n",
       "    }\n",
       "\n",
       "    .dataframe thead th {\n",
       "        text-align: right;\n",
       "    }\n",
       "</style>\n",
       "<table border=\"1\" class=\"dataframe\">\n",
       "  <thead>\n",
       "    <tr style=\"text-align: right;\">\n",
       "      <th></th>\n",
       "      <th>Age</th>\n",
       "      <th>Polyuria</th>\n",
       "      <th>Age_Group</th>\n",
       "      <th>Polydipsia</th>\n",
       "      <th>sudden weight loss</th>\n",
       "      <th>weakness</th>\n",
       "      <th>Polyphagia</th>\n",
       "      <th>Genital thrush</th>\n",
       "      <th>visual blurring</th>\n",
       "      <th>Itching</th>\n",
       "      <th>Irritability</th>\n",
       "      <th>delayed healing</th>\n",
       "      <th>partial paresis</th>\n",
       "      <th>muscle stiffness</th>\n",
       "      <th>Alopecia</th>\n",
       "      <th>Obesity</th>\n",
       "      <th>class</th>\n",
       "      <th>Gender_Female</th>\n",
       "      <th>Gender_Male</th>\n",
       "      <th>Age_49</th>\n",
       "    </tr>\n",
       "  </thead>\n",
       "  <tbody>\n",
       "    <tr>\n",
       "      <th>0</th>\n",
       "      <td>40</td>\n",
       "      <td>0</td>\n",
       "      <td>older_than_40</td>\n",
       "      <td>1</td>\n",
       "      <td>0</td>\n",
       "      <td>1</td>\n",
       "      <td>0</td>\n",
       "      <td>0</td>\n",
       "      <td>0</td>\n",
       "      <td>1</td>\n",
       "      <td>0</td>\n",
       "      <td>1</td>\n",
       "      <td>0</td>\n",
       "      <td>1</td>\n",
       "      <td>1</td>\n",
       "      <td>1</td>\n",
       "      <td>1</td>\n",
       "      <td>0</td>\n",
       "      <td>1</td>\n",
       "      <td>0</td>\n",
       "    </tr>\n",
       "    <tr>\n",
       "      <th>1</th>\n",
       "      <td>58</td>\n",
       "      <td>0</td>\n",
       "      <td>older_than_40</td>\n",
       "      <td>0</td>\n",
       "      <td>0</td>\n",
       "      <td>1</td>\n",
       "      <td>0</td>\n",
       "      <td>0</td>\n",
       "      <td>1</td>\n",
       "      <td>0</td>\n",
       "      <td>0</td>\n",
       "      <td>0</td>\n",
       "      <td>1</td>\n",
       "      <td>0</td>\n",
       "      <td>1</td>\n",
       "      <td>0</td>\n",
       "      <td>1</td>\n",
       "      <td>0</td>\n",
       "      <td>1</td>\n",
       "      <td>1</td>\n",
       "    </tr>\n",
       "    <tr>\n",
       "      <th>2</th>\n",
       "      <td>41</td>\n",
       "      <td>1</td>\n",
       "      <td>older_than_40</td>\n",
       "      <td>0</td>\n",
       "      <td>0</td>\n",
       "      <td>1</td>\n",
       "      <td>1</td>\n",
       "      <td>0</td>\n",
       "      <td>0</td>\n",
       "      <td>1</td>\n",
       "      <td>0</td>\n",
       "      <td>1</td>\n",
       "      <td>0</td>\n",
       "      <td>1</td>\n",
       "      <td>1</td>\n",
       "      <td>0</td>\n",
       "      <td>1</td>\n",
       "      <td>0</td>\n",
       "      <td>1</td>\n",
       "      <td>0</td>\n",
       "    </tr>\n",
       "    <tr>\n",
       "      <th>3</th>\n",
       "      <td>45</td>\n",
       "      <td>0</td>\n",
       "      <td>older_than_40</td>\n",
       "      <td>0</td>\n",
       "      <td>1</td>\n",
       "      <td>1</td>\n",
       "      <td>1</td>\n",
       "      <td>1</td>\n",
       "      <td>0</td>\n",
       "      <td>1</td>\n",
       "      <td>0</td>\n",
       "      <td>1</td>\n",
       "      <td>0</td>\n",
       "      <td>0</td>\n",
       "      <td>0</td>\n",
       "      <td>0</td>\n",
       "      <td>1</td>\n",
       "      <td>0</td>\n",
       "      <td>1</td>\n",
       "      <td>0</td>\n",
       "    </tr>\n",
       "    <tr>\n",
       "      <th>4</th>\n",
       "      <td>60</td>\n",
       "      <td>1</td>\n",
       "      <td>older_than_40</td>\n",
       "      <td>1</td>\n",
       "      <td>1</td>\n",
       "      <td>1</td>\n",
       "      <td>1</td>\n",
       "      <td>0</td>\n",
       "      <td>1</td>\n",
       "      <td>1</td>\n",
       "      <td>1</td>\n",
       "      <td>1</td>\n",
       "      <td>1</td>\n",
       "      <td>1</td>\n",
       "      <td>1</td>\n",
       "      <td>1</td>\n",
       "      <td>1</td>\n",
       "      <td>0</td>\n",
       "      <td>1</td>\n",
       "      <td>1</td>\n",
       "    </tr>\n",
       "    <tr>\n",
       "      <th>...</th>\n",
       "      <td>...</td>\n",
       "      <td>...</td>\n",
       "      <td>...</td>\n",
       "      <td>...</td>\n",
       "      <td>...</td>\n",
       "      <td>...</td>\n",
       "      <td>...</td>\n",
       "      <td>...</td>\n",
       "      <td>...</td>\n",
       "      <td>...</td>\n",
       "      <td>...</td>\n",
       "      <td>...</td>\n",
       "      <td>...</td>\n",
       "      <td>...</td>\n",
       "      <td>...</td>\n",
       "      <td>...</td>\n",
       "      <td>...</td>\n",
       "      <td>...</td>\n",
       "      <td>...</td>\n",
       "      <td>...</td>\n",
       "    </tr>\n",
       "    <tr>\n",
       "      <th>515</th>\n",
       "      <td>39</td>\n",
       "      <td>1</td>\n",
       "      <td>younger_than_40</td>\n",
       "      <td>1</td>\n",
       "      <td>1</td>\n",
       "      <td>0</td>\n",
       "      <td>1</td>\n",
       "      <td>0</td>\n",
       "      <td>0</td>\n",
       "      <td>1</td>\n",
       "      <td>0</td>\n",
       "      <td>1</td>\n",
       "      <td>1</td>\n",
       "      <td>0</td>\n",
       "      <td>0</td>\n",
       "      <td>0</td>\n",
       "      <td>1</td>\n",
       "      <td>1</td>\n",
       "      <td>0</td>\n",
       "      <td>0</td>\n",
       "    </tr>\n",
       "    <tr>\n",
       "      <th>516</th>\n",
       "      <td>48</td>\n",
       "      <td>1</td>\n",
       "      <td>older_than_40</td>\n",
       "      <td>1</td>\n",
       "      <td>1</td>\n",
       "      <td>1</td>\n",
       "      <td>1</td>\n",
       "      <td>0</td>\n",
       "      <td>0</td>\n",
       "      <td>1</td>\n",
       "      <td>1</td>\n",
       "      <td>1</td>\n",
       "      <td>1</td>\n",
       "      <td>0</td>\n",
       "      <td>0</td>\n",
       "      <td>0</td>\n",
       "      <td>1</td>\n",
       "      <td>1</td>\n",
       "      <td>0</td>\n",
       "      <td>0</td>\n",
       "    </tr>\n",
       "    <tr>\n",
       "      <th>517</th>\n",
       "      <td>58</td>\n",
       "      <td>1</td>\n",
       "      <td>older_than_40</td>\n",
       "      <td>1</td>\n",
       "      <td>1</td>\n",
       "      <td>1</td>\n",
       "      <td>1</td>\n",
       "      <td>0</td>\n",
       "      <td>1</td>\n",
       "      <td>0</td>\n",
       "      <td>0</td>\n",
       "      <td>0</td>\n",
       "      <td>1</td>\n",
       "      <td>1</td>\n",
       "      <td>0</td>\n",
       "      <td>1</td>\n",
       "      <td>1</td>\n",
       "      <td>1</td>\n",
       "      <td>0</td>\n",
       "      <td>1</td>\n",
       "    </tr>\n",
       "    <tr>\n",
       "      <th>518</th>\n",
       "      <td>32</td>\n",
       "      <td>0</td>\n",
       "      <td>younger_than_40</td>\n",
       "      <td>0</td>\n",
       "      <td>0</td>\n",
       "      <td>1</td>\n",
       "      <td>0</td>\n",
       "      <td>0</td>\n",
       "      <td>1</td>\n",
       "      <td>1</td>\n",
       "      <td>0</td>\n",
       "      <td>1</td>\n",
       "      <td>0</td>\n",
       "      <td>0</td>\n",
       "      <td>1</td>\n",
       "      <td>0</td>\n",
       "      <td>0</td>\n",
       "      <td>1</td>\n",
       "      <td>0</td>\n",
       "      <td>0</td>\n",
       "    </tr>\n",
       "    <tr>\n",
       "      <th>519</th>\n",
       "      <td>42</td>\n",
       "      <td>0</td>\n",
       "      <td>older_than_40</td>\n",
       "      <td>0</td>\n",
       "      <td>0</td>\n",
       "      <td>0</td>\n",
       "      <td>0</td>\n",
       "      <td>0</td>\n",
       "      <td>0</td>\n",
       "      <td>0</td>\n",
       "      <td>0</td>\n",
       "      <td>0</td>\n",
       "      <td>0</td>\n",
       "      <td>0</td>\n",
       "      <td>0</td>\n",
       "      <td>0</td>\n",
       "      <td>0</td>\n",
       "      <td>0</td>\n",
       "      <td>1</td>\n",
       "      <td>0</td>\n",
       "    </tr>\n",
       "  </tbody>\n",
       "</table>\n",
       "<p>520 rows × 20 columns</p>\n",
       "</div>"
      ],
      "text/plain": [
       "     Age  Polyuria        Age_Group  Polydipsia  sudden weight loss  weakness  \\\n",
       "0     40         0    older_than_40           1                   0         1   \n",
       "1     58         0    older_than_40           0                   0         1   \n",
       "2     41         1    older_than_40           0                   0         1   \n",
       "3     45         0    older_than_40           0                   1         1   \n",
       "4     60         1    older_than_40           1                   1         1   \n",
       "..   ...       ...              ...         ...                 ...       ...   \n",
       "515   39         1  younger_than_40           1                   1         0   \n",
       "516   48         1    older_than_40           1                   1         1   \n",
       "517   58         1    older_than_40           1                   1         1   \n",
       "518   32         0  younger_than_40           0                   0         1   \n",
       "519   42         0    older_than_40           0                   0         0   \n",
       "\n",
       "     Polyphagia  Genital thrush  visual blurring  Itching  Irritability  \\\n",
       "0             0               0                0        1             0   \n",
       "1             0               0                1        0             0   \n",
       "2             1               0                0        1             0   \n",
       "3             1               1                0        1             0   \n",
       "4             1               0                1        1             1   \n",
       "..          ...             ...              ...      ...           ...   \n",
       "515           1               0                0        1             0   \n",
       "516           1               0                0        1             1   \n",
       "517           1               0                1        0             0   \n",
       "518           0               0                1        1             0   \n",
       "519           0               0                0        0             0   \n",
       "\n",
       "     delayed healing  partial paresis  muscle stiffness  Alopecia  Obesity  \\\n",
       "0                  1                0                 1         1        1   \n",
       "1                  0                1                 0         1        0   \n",
       "2                  1                0                 1         1        0   \n",
       "3                  1                0                 0         0        0   \n",
       "4                  1                1                 1         1        1   \n",
       "..               ...              ...               ...       ...      ...   \n",
       "515                1                1                 0         0        0   \n",
       "516                1                1                 0         0        0   \n",
       "517                0                1                 1         0        1   \n",
       "518                1                0                 0         1        0   \n",
       "519                0                0                 0         0        0   \n",
       "\n",
       "     class  Gender_Female  Gender_Male  Age_49  \n",
       "0        1              0            1       0  \n",
       "1        1              0            1       1  \n",
       "2        1              0            1       0  \n",
       "3        1              0            1       0  \n",
       "4        1              0            1       1  \n",
       "..     ...            ...          ...     ...  \n",
       "515      1              1            0       0  \n",
       "516      1              1            0       0  \n",
       "517      1              1            0       1  \n",
       "518      0              1            0       0  \n",
       "519      0              0            1       0  \n",
       "\n",
       "[520 rows x 20 columns]"
      ]
     },
     "execution_count": 44,
     "metadata": {},
     "output_type": "execute_result"
    }
   ],
   "source": [
    "df2"
   ]
  },
  {
   "cell_type": "markdown",
   "id": "a841198d",
   "metadata": {
    "ExecuteTime": {
     "end_time": "2021-08-15T15:55:57.292000Z",
     "start_time": "2021-08-15T15:55:57.282006Z"
    }
   },
   "source": [
    "Será proposto um primeiro modelo com todas as variáveis e em seguida este modelo será comparado a um com as 5 principais variáveis identificada no teste do chi quadrado"
   ]
  },
  {
   "cell_type": "code",
   "execution_count": 45,
   "id": "14662f80",
   "metadata": {
    "ExecuteTime": {
     "end_time": "2021-08-17T00:58:41.624210Z",
     "start_time": "2021-08-17T00:58:41.608217Z"
    }
   },
   "outputs": [],
   "source": [
    "# Será considerado apenas o Gênero Feminino. Se 1 feminino, se 0 masculino\n",
    "df3=df2.drop(['Age','Age_Group','Gender_Male'],axis=1)"
   ]
  },
  {
   "cell_type": "code",
   "execution_count": 46,
   "id": "d7048862",
   "metadata": {
    "ExecuteTime": {
     "end_time": "2021-08-17T00:58:41.955002Z",
     "start_time": "2021-08-17T00:58:41.944015Z"
    }
   },
   "outputs": [],
   "source": [
    "X = df3.drop('class',axis=1)\n",
    "y = df3['class']"
   ]
  },
  {
   "cell_type": "code",
   "execution_count": 47,
   "id": "a1845bcf",
   "metadata": {
    "ExecuteTime": {
     "end_time": "2021-08-17T00:58:42.193855Z",
     "start_time": "2021-08-17T00:58:42.184861Z"
    }
   },
   "outputs": [],
   "source": [
    "X_train, X_test, y_train, y_test = train_test_split(X,y, test_size=0.2, random_state=42,shuffle=True)"
   ]
  },
  {
   "cell_type": "code",
   "execution_count": 48,
   "id": "6c559920",
   "metadata": {
    "ExecuteTime": {
     "end_time": "2021-08-17T00:58:42.399728Z",
     "start_time": "2021-08-17T00:58:42.391734Z"
    }
   },
   "outputs": [],
   "source": [
    "# Modelagem"
   ]
  },
  {
   "cell_type": "code",
   "execution_count": 49,
   "id": "09560580",
   "metadata": {
    "ExecuteTime": {
     "end_time": "2021-08-17T00:58:42.636583Z",
     "start_time": "2021-08-17T00:58:42.613599Z"
    }
   },
   "outputs": [
    {
     "data": {
      "text/plain": [
       "DummyClassifier(random_state=42, strategy='uniform')"
      ]
     },
     "execution_count": 49,
     "metadata": {},
     "output_type": "execute_result"
    }
   ],
   "source": [
    "# Create dummy classifer\n",
    "dummy = DummyClassifier(strategy='uniform', random_state=42)\n",
    "\n",
    "# \"Train\" model\n",
    "dummy.fit(X_train, y_train)"
   ]
  },
  {
   "cell_type": "code",
   "execution_count": 50,
   "id": "8a8b5d21",
   "metadata": {
    "ExecuteTime": {
     "end_time": "2021-08-17T00:58:42.844456Z",
     "start_time": "2021-08-17T00:58:42.823469Z"
    },
    "scrolled": true
   },
   "outputs": [
    {
     "data": {
      "text/plain": [
       "0.5"
      ]
     },
     "execution_count": 50,
     "metadata": {},
     "output_type": "execute_result"
    }
   ],
   "source": [
    "dummy.score(X_test, y_test)  \n"
   ]
  },
  {
   "cell_type": "markdown",
   "id": "5ddc3b95",
   "metadata": {},
   "source": [
    "O modelo utilizado como baseline obteve um score de 50% nos dados de testes. O modelo de classificação que será desenvolvido deverá ter um valor acima deste."
   ]
  },
  {
   "cell_type": "code",
   "execution_count": 51,
   "id": "829abc6f",
   "metadata": {
    "ExecuteTime": {
     "end_time": "2021-08-17T00:58:49.675241Z",
     "start_time": "2021-08-17T00:58:43.591996Z"
    }
   },
   "outputs": [
    {
     "name": "stdout",
     "output_type": "stream",
     "text": [
      "Accuracy: 0.945 (0.016)\n"
     ]
    }
   ],
   "source": [
    "from sklearn.tree import DecisionTreeClassifier\n",
    "# create dataset\n",
    "# prepare the cross-validation procedure\n",
    "cv = KFold(n_splits=5, random_state=42, shuffle=True)\n",
    "# create model\n",
    "model = DecisionTreeClassifier(random_state=42,class_weight='balanced')\n",
    "# evaluate model\n",
    "scores = cross_val_score(model, X_train, y_train, scoring='accuracy', cv=cv, n_jobs=-1)\n",
    "# report performance\n",
    "print('Accuracy: %.3f (%.3f)' % (mean(scores), std(scores)))"
   ]
  },
  {
   "cell_type": "code",
   "execution_count": 52,
   "id": "afb8ffc7",
   "metadata": {
    "ExecuteTime": {
     "end_time": "2021-08-17T00:58:49.707222Z",
     "start_time": "2021-08-17T00:58:49.679240Z"
    }
   },
   "outputs": [
    {
     "data": {
      "text/plain": [
       "DecisionTreeClassifier(class_weight='balanced', random_state=42)"
      ]
     },
     "execution_count": 52,
     "metadata": {},
     "output_type": "execute_result"
    }
   ],
   "source": [
    "model.fit(X_train,y_train)"
   ]
  },
  {
   "cell_type": "code",
   "execution_count": 53,
   "id": "5768f65c",
   "metadata": {
    "ExecuteTime": {
     "end_time": "2021-08-17T00:58:49.723212Z",
     "start_time": "2021-08-17T00:58:49.713219Z"
    }
   },
   "outputs": [],
   "source": [
    "y_pred = model.predict(X_test)"
   ]
  },
  {
   "cell_type": "code",
   "execution_count": 54,
   "id": "fd50337f",
   "metadata": {
    "ExecuteTime": {
     "end_time": "2021-08-17T00:58:49.753194Z",
     "start_time": "2021-08-17T00:58:49.728210Z"
    }
   },
   "outputs": [
    {
     "data": {
      "text/plain": [
       "0.9711538461538461"
      ]
     },
     "execution_count": 54,
     "metadata": {},
     "output_type": "execute_result"
    }
   ],
   "source": [
    "model.score(X_test,y_test)"
   ]
  },
  {
   "cell_type": "code",
   "execution_count": 55,
   "id": "4fadf451",
   "metadata": {
    "ExecuteTime": {
     "end_time": "2021-08-17T00:58:49.785173Z",
     "start_time": "2021-08-17T00:58:49.757191Z"
    }
   },
   "outputs": [
    {
     "name": "stdout",
     "output_type": "stream",
     "text": [
      "              precision    recall  f1-score   support\n",
      "\n",
      "    negative       0.94      0.97      0.96        33\n",
      "    positive       0.99      0.97      0.98        71\n",
      "\n",
      "    accuracy                           0.97       104\n",
      "   macro avg       0.96      0.97      0.97       104\n",
      "weighted avg       0.97      0.97      0.97       104\n",
      "\n"
     ]
    }
   ],
   "source": [
    "target_names = ['negative', 'positive']\n",
    "print(classification_report(y_test, y_pred, target_names=target_names))"
   ]
  },
  {
   "cell_type": "markdown",
   "id": "b6990203",
   "metadata": {},
   "source": [
    "## selecionando variáveis a serem trabalhadas no modelo"
   ]
  },
  {
   "cell_type": "code",
   "execution_count": 56,
   "id": "a504907d",
   "metadata": {
    "ExecuteTime": {
     "end_time": "2021-08-17T00:58:49.800164Z",
     "start_time": "2021-08-17T00:58:49.788172Z"
    }
   },
   "outputs": [],
   "source": [
    "# O método para seleção das variáveis mais importantes para o problema será o kbest utilziando o teste \"chi-quadrado\" que se adequa a variáveis categóricas"
   ]
  },
  {
   "cell_type": "code",
   "execution_count": 57,
   "id": "6aae410b",
   "metadata": {
    "ExecuteTime": {
     "end_time": "2021-08-17T00:58:49.816155Z",
     "start_time": "2021-08-17T00:58:49.804164Z"
    }
   },
   "outputs": [],
   "source": [
    "X = df3.drop('class',axis=1)\n",
    "y = df3['class']"
   ]
  },
  {
   "cell_type": "code",
   "execution_count": 58,
   "id": "2132abde",
   "metadata": {
    "ExecuteTime": {
     "end_time": "2021-08-17T00:58:49.832145Z",
     "start_time": "2021-08-17T00:58:49.822151Z"
    }
   },
   "outputs": [
    {
     "data": {
      "text/plain": [
       "(520, 16)"
      ]
     },
     "execution_count": 58,
     "metadata": {},
     "output_type": "execute_result"
    }
   ],
   "source": [
    "X.shape"
   ]
  },
  {
   "cell_type": "code",
   "execution_count": 59,
   "id": "0203b2ad",
   "metadata": {
    "ExecuteTime": {
     "end_time": "2021-08-17T00:58:49.848135Z",
     "start_time": "2021-08-17T00:58:49.837142Z"
    }
   },
   "outputs": [],
   "source": [
    "# O dataset possui 16 entradas, selecionaremos 11, através, da seleção kbest com o teste do \"chi-quadrado\""
   ]
  },
  {
   "cell_type": "code",
   "execution_count": 60,
   "id": "1bca8e9b",
   "metadata": {
    "ExecuteTime": {
     "end_time": "2021-08-17T00:58:49.879116Z",
     "start_time": "2021-08-17T00:58:49.852133Z"
    }
   },
   "outputs": [],
   "source": [
    "chi_values = SelectKBest(chi2, k=11).fit(X, y)\n"
   ]
  },
  {
   "cell_type": "code",
   "execution_count": 61,
   "id": "13e94500",
   "metadata": {
    "ExecuteTime": {
     "end_time": "2021-08-17T00:58:49.911096Z",
     "start_time": "2021-08-17T00:58:49.883115Z"
    }
   },
   "outputs": [],
   "source": [
    "selected_features = pd.concat([pd.DataFrame(X.columns), pd.DataFrame(chi_values.scores_)], axis=1)\n",
    "selected_features.columns = [\"features\", \"values\"]\n",
    "selected_features = selected_features.sort_values(by=\"values\", ascending=False).reset_index(drop=False)\n"
   ]
  },
  {
   "cell_type": "markdown",
   "id": "da49c5a7",
   "metadata": {
    "ExecuteTime": {
     "end_time": "2021-08-15T15:50:00.963082Z",
     "start_time": "2021-08-15T15:50:00.955091Z"
    }
   },
   "source": [
    "criando uma lista com retirando as 5  variáveis menos importantes para a identificação de casos de diabetes baseado no teste teste \"chi-quadrado\"\n"
   ]
  },
  {
   "cell_type": "code",
   "execution_count": 62,
   "id": "e0460955",
   "metadata": {
    "ExecuteTime": {
     "end_time": "2021-08-17T00:58:49.958067Z",
     "start_time": "2021-08-17T00:58:49.915094Z"
    }
   },
   "outputs": [
    {
     "data": {
      "text/html": [
       "<div>\n",
       "<style scoped>\n",
       "    .dataframe tbody tr th:only-of-type {\n",
       "        vertical-align: middle;\n",
       "    }\n",
       "\n",
       "    .dataframe tbody tr th {\n",
       "        vertical-align: top;\n",
       "    }\n",
       "\n",
       "    .dataframe thead th {\n",
       "        text-align: right;\n",
       "    }\n",
       "</style>\n",
       "<table border=\"1\" class=\"dataframe\">\n",
       "  <thead>\n",
       "    <tr style=\"text-align: right;\">\n",
       "      <th></th>\n",
       "      <th>index</th>\n",
       "      <th>features</th>\n",
       "      <th>values</th>\n",
       "    </tr>\n",
       "  </thead>\n",
       "  <tbody>\n",
       "    <tr>\n",
       "      <th>0</th>\n",
       "      <td>1</td>\n",
       "      <td>Polydipsia</td>\n",
       "      <td>120.785515</td>\n",
       "    </tr>\n",
       "    <tr>\n",
       "      <th>1</th>\n",
       "      <td>0</td>\n",
       "      <td>Polyuria</td>\n",
       "      <td>116.184593</td>\n",
       "    </tr>\n",
       "    <tr>\n",
       "      <th>2</th>\n",
       "      <td>14</td>\n",
       "      <td>Gender_Female</td>\n",
       "      <td>66.193880</td>\n",
       "    </tr>\n",
       "    <tr>\n",
       "      <th>3</th>\n",
       "      <td>2</td>\n",
       "      <td>sudden weight loss</td>\n",
       "      <td>57.749309</td>\n",
       "    </tr>\n",
       "    <tr>\n",
       "      <th>4</th>\n",
       "      <td>10</td>\n",
       "      <td>partial paresis</td>\n",
       "      <td>55.314286</td>\n",
       "    </tr>\n",
       "    <tr>\n",
       "      <th>5</th>\n",
       "      <td>8</td>\n",
       "      <td>Irritability</td>\n",
       "      <td>35.334127</td>\n",
       "    </tr>\n",
       "    <tr>\n",
       "      <th>6</th>\n",
       "      <td>4</td>\n",
       "      <td>Polyphagia</td>\n",
       "      <td>33.198418</td>\n",
       "    </tr>\n",
       "    <tr>\n",
       "      <th>7</th>\n",
       "      <td>12</td>\n",
       "      <td>Alopecia</td>\n",
       "      <td>24.402793</td>\n",
       "    </tr>\n",
       "    <tr>\n",
       "      <th>8</th>\n",
       "      <td>6</td>\n",
       "      <td>visual blurring</td>\n",
       "      <td>18.124571</td>\n",
       "    </tr>\n",
       "    <tr>\n",
       "      <th>9</th>\n",
       "      <td>3</td>\n",
       "      <td>weakness</td>\n",
       "      <td>12.724262</td>\n",
       "    </tr>\n",
       "    <tr>\n",
       "      <th>10</th>\n",
       "      <td>5</td>\n",
       "      <td>Genital thrush</td>\n",
       "      <td>4.914009</td>\n",
       "    </tr>\n",
       "    <tr>\n",
       "      <th>11</th>\n",
       "      <td>11</td>\n",
       "      <td>muscle stiffness</td>\n",
       "      <td>4.875000</td>\n",
       "    </tr>\n",
       "    <tr>\n",
       "      <th>12</th>\n",
       "      <td>13</td>\n",
       "      <td>Obesity</td>\n",
       "      <td>2.250284</td>\n",
       "    </tr>\n",
       "    <tr>\n",
       "      <th>13</th>\n",
       "      <td>15</td>\n",
       "      <td>Age_49</td>\n",
       "      <td>1.906142</td>\n",
       "    </tr>\n",
       "    <tr>\n",
       "      <th>14</th>\n",
       "      <td>9</td>\n",
       "      <td>delayed healing</td>\n",
       "      <td>0.620188</td>\n",
       "    </tr>\n",
       "    <tr>\n",
       "      <th>15</th>\n",
       "      <td>7</td>\n",
       "      <td>Itching</td>\n",
       "      <td>0.047826</td>\n",
       "    </tr>\n",
       "  </tbody>\n",
       "</table>\n",
       "</div>"
      ],
      "text/plain": [
       "    index            features      values\n",
       "0       1          Polydipsia  120.785515\n",
       "1       0            Polyuria  116.184593\n",
       "2      14       Gender_Female   66.193880\n",
       "3       2  sudden weight loss   57.749309\n",
       "4      10     partial paresis   55.314286\n",
       "5       8        Irritability   35.334127\n",
       "6       4          Polyphagia   33.198418\n",
       "7      12            Alopecia   24.402793\n",
       "8       6     visual blurring   18.124571\n",
       "9       3            weakness   12.724262\n",
       "10      5      Genital thrush    4.914009\n",
       "11     11    muscle stiffness    4.875000\n",
       "12     13             Obesity    2.250284\n",
       "13     15              Age_49    1.906142\n",
       "14      9     delayed healing    0.620188\n",
       "15      7             Itching    0.047826"
      ]
     },
     "execution_count": 62,
     "metadata": {},
     "output_type": "execute_result"
    }
   ],
   "source": [
    "selected_features"
   ]
  },
  {
   "cell_type": "code",
   "execution_count": 63,
   "id": "e5a1f518",
   "metadata": {
    "ExecuteTime": {
     "end_time": "2021-08-17T00:58:49.974058Z",
     "start_time": "2021-08-17T00:58:49.962065Z"
    }
   },
   "outputs": [
    {
     "data": {
      "text/plain": [
       "['Polydipsia',\n",
       " 'Polyuria',\n",
       " 'Gender_Female',\n",
       " 'sudden weight loss',\n",
       " 'partial paresis',\n",
       " 'Irritability',\n",
       " 'Polyphagia',\n",
       " 'Alopecia',\n",
       " 'visual blurring',\n",
       " 'weakness',\n",
       " 'Genital thrush']"
      ]
     },
     "execution_count": 63,
     "metadata": {},
     "output_type": "execute_result"
    }
   ],
   "source": [
    "selected_features[\"features\"][:-5].to_list()"
   ]
  },
  {
   "cell_type": "code",
   "execution_count": 64,
   "id": "9e379275",
   "metadata": {
    "ExecuteTime": {
     "end_time": "2021-08-17T00:58:49.990048Z",
     "start_time": "2021-08-17T00:58:49.979056Z"
    },
    "scrolled": true
   },
   "outputs": [
    {
     "name": "stdout",
     "output_type": "stream",
     "text": [
      "No teste com o \"chi-quadrado\", as variáveis selecionadas foram ['Polydipsia', 'Polyuria', 'Gender_Female', 'sudden weight loss', 'partial paresis', 'Irritability', 'Polyphagia', 'Alopecia', 'visual blurring', 'weakness', 'Genital thrush']\n"
     ]
    }
   ],
   "source": [
    "print(f'No teste com o \"chi-quadrado\", as variáveis selecionadas foram {selected_features[\"features\"][0:-5].to_list()}')"
   ]
  },
  {
   "cell_type": "code",
   "execution_count": 65,
   "id": "0f782d65",
   "metadata": {
    "ExecuteTime": {
     "end_time": "2021-08-17T00:58:50.006038Z",
     "start_time": "2021-08-17T00:58:49.994046Z"
    }
   },
   "outputs": [],
   "source": [
    "chi_features = selected_features[\"features\"][0:-5].to_list()"
   ]
  },
  {
   "cell_type": "code",
   "execution_count": 66,
   "id": "8e9289ca",
   "metadata": {
    "ExecuteTime": {
     "end_time": "2021-08-17T00:58:50.037018Z",
     "start_time": "2021-08-17T00:58:50.009039Z"
    }
   },
   "outputs": [],
   "source": [
    "X = df3[chi_features]\n",
    "y = df3['class']\n",
    "X_train, X_test, y_train, y_test = train_test_split(X,y, test_size=0.3, random_state=42,shuffle=True)"
   ]
  },
  {
   "cell_type": "code",
   "execution_count": 67,
   "id": "883bb471",
   "metadata": {
    "ExecuteTime": {
     "end_time": "2021-08-17T00:58:50.083989Z",
     "start_time": "2021-08-17T00:58:50.040017Z"
    }
   },
   "outputs": [
    {
     "name": "stdout",
     "output_type": "stream",
     "text": [
      "Accuracy: 0.915 (0.018)\n"
     ]
    }
   ],
   "source": [
    "from sklearn.tree import DecisionTreeClassifier\n",
    "# create dataset\n",
    "# prepare the cross-validation procedure\n",
    "cv = KFold(n_splits=4, random_state=42, shuffle=True)\n",
    "# create model\n",
    "model = DecisionTreeClassifier(random_state=42,class_weight='balanced')\n",
    "# evaluate model\n",
    "scores = cross_val_score(model, X_train, y_train, scoring='accuracy', cv=cv, n_jobs=-1)\n",
    "# report performance\n",
    "print('Accuracy: %.3f (%.3f)' % (mean(scores), std(scores)))"
   ]
  },
  {
   "cell_type": "code",
   "execution_count": 68,
   "id": "16980ace",
   "metadata": {
    "ExecuteTime": {
     "end_time": "2021-08-17T00:58:50.114971Z",
     "start_time": "2021-08-17T00:58:50.086988Z"
    }
   },
   "outputs": [
    {
     "data": {
      "text/plain": [
       "DecisionTreeClassifier(class_weight='balanced', random_state=42)"
      ]
     },
     "execution_count": 68,
     "metadata": {},
     "output_type": "execute_result"
    }
   ],
   "source": [
    "model.fit(X_train,y_train)"
   ]
  },
  {
   "cell_type": "code",
   "execution_count": 69,
   "id": "3d9c810d",
   "metadata": {
    "ExecuteTime": {
     "end_time": "2021-08-17T00:58:50.130961Z",
     "start_time": "2021-08-17T00:58:50.117969Z"
    }
   },
   "outputs": [],
   "source": [
    "y_pred = model.predict(X_test)"
   ]
  },
  {
   "cell_type": "code",
   "execution_count": 70,
   "id": "d91e09e7",
   "metadata": {
    "ExecuteTime": {
     "end_time": "2021-08-17T00:58:50.161942Z",
     "start_time": "2021-08-17T00:58:50.134958Z"
    }
   },
   "outputs": [
    {
     "name": "stdout",
     "output_type": "stream",
     "text": [
      "              precision    recall  f1-score   support\n",
      "\n",
      "    negative       0.96      0.94      0.95        54\n",
      "    positive       0.97      0.98      0.98       102\n",
      "\n",
      "    accuracy                           0.97       156\n",
      "   macro avg       0.97      0.96      0.96       156\n",
      "weighted avg       0.97      0.97      0.97       156\n",
      "\n"
     ]
    }
   ],
   "source": [
    "from sklearn.metrics import classification_report\n",
    "target_names = ['negative', 'positive']\n",
    "print(classification_report(y_test, y_pred, target_names=target_names))"
   ]
  },
  {
   "cell_type": "code",
   "execution_count": 71,
   "id": "dbe70461",
   "metadata": {
    "ExecuteTime": {
     "end_time": "2021-08-17T00:58:50.177931Z",
     "start_time": "2021-08-17T00:58:50.167938Z"
    }
   },
   "outputs": [],
   "source": [
    "cf_matrix = confusion_matrix(y_test, y_pred)\n"
   ]
  },
  {
   "cell_type": "code",
   "execution_count": 72,
   "id": "98f983ae",
   "metadata": {
    "ExecuteTime": {
     "end_time": "2021-08-17T00:58:50.971442Z",
     "start_time": "2021-08-17T00:58:50.535713Z"
    }
   },
   "outputs": [
    {
     "data": {
      "image/png": "[encoded data removed]",
      "text/plain": [
       "<Figure size 432x288 with 2 Axes>"
      ]
     },
     "metadata": {},
     "output_type": "display_data"
    }
   ],
   "source": [
    "group_names = [\"True Neg\",\"False Pos\",\"False Neg\",\"True Pos\"]\n",
    "group_counts = ['{0:0.0f}'.format(value) for value in\n",
    "                cf_matrix.flatten()]\n",
    "group_percentages = ['{0:.2%}'.format(value) for value in\n",
    "                     cf_matrix.flatten()/np.sum(cf_matrix)]\n",
    "labels = [f'{v1}\\n{v2}\\n{v3}' for v1, v2, v3 in\n",
    "          zip(group_names,group_counts,group_percentages)]\n",
    "labels = np.asarray(labels).reshape(2,2)\n",
    "sns.heatmap(cf_matrix, annot=labels, fmt='', cmap='Blues');\n",
    "plt.xlabel('Real',fontsize=18)\n",
    "plt.ylabel('Predito',fontsize=18);"
   ]
  },
  {
   "cell_type": "markdown",
   "id": "71083a33",
   "metadata": {
    "ExecuteTime": {
     "end_time": "2021-08-15T18:13:59.439826Z",
     "start_time": "2021-08-15T18:13:59.430831Z"
    }
   },
   "source": [
    "# Testando mais modelos e fazendo gridSeacrh dos hiperparâmetros"
   ]
  },
  {
   "cell_type": "code",
   "execution_count": 73,
   "id": "a4f600d1",
   "metadata": {
    "ExecuteTime": {
     "end_time": "2021-08-17T00:59:14.093183Z",
     "start_time": "2021-08-17T00:59:14.086189Z"
    }
   },
   "outputs": [],
   "source": [
    "def get_models():\n",
    "    '''\n",
    "    Essa função seleciona diversos modelos de classificação para treino\n",
    "    '''\n",
    "    models = list()\n",
    "    models.append(('KNN',KNeighborsClassifier()))\n",
    "    models.append(('DT',DecisionTreeClassifier(random_state=42,class_weight='balanced')))\n",
    "    models.append(('RF',RandomForestClassifier(random_state=42,class_weight='balanced')))\n",
    "    models.append(('Gaussian',GaussianNB()))\n",
    "\n",
    "    return models"
   ]
  },
  {
   "cell_type": "code",
   "execution_count": 74,
   "id": "814a9cdc",
   "metadata": {
    "ExecuteTime": {
     "end_time": "2021-08-17T00:59:14.331036Z",
     "start_time": "2021-08-17T00:59:14.313048Z"
    }
   },
   "outputs": [],
   "source": [
    "def evaluate_model(cv, model):\n",
    "    '''\n",
    "    Essa função faz o cross_validation dos modelos e imprime a acurácia correspondente\n",
    "    '''\n",
    "    X, y = get_dataset()\n",
    "    scores = cross_val_score(model, X, y, scoring='accuracy', cv=cv, n_jobs=-1)\n",
    "    return mean(scores)"
   ]
  },
  {
   "cell_type": "code",
   "execution_count": 75,
   "id": "de1fc4a3",
   "metadata": {
    "ExecuteTime": {
     "end_time": "2021-08-17T00:59:14.520921Z",
     "start_time": "2021-08-17T00:59:14.502931Z"
    }
   },
   "outputs": [],
   "source": [
    "cv = KFold(n_splits=4, random_state=42, shuffle=True)"
   ]
  },
  {
   "cell_type": "code",
   "execution_count": 76,
   "id": "1ac09356",
   "metadata": {
    "ExecuteTime": {
     "end_time": "2021-08-17T00:59:14.695812Z",
     "start_time": "2021-08-17T00:59:14.678824Z"
    }
   },
   "outputs": [],
   "source": [
    "models = get_models()\n",
    "ideal_results, cv_results = list(), list()"
   ]
  },
  {
   "cell_type": "code",
   "execution_count": 77,
   "id": "d97433d1",
   "metadata": {
    "ExecuteTime": {
     "end_time": "2021-08-17T00:59:16.076960Z",
     "start_time": "2021-08-17T00:59:14.854715Z"
    }
   },
   "outputs": [
    {
     "name": "stdout",
     "output_type": "stream",
     "text": [
      "KNN: 0.923077 (0.021066)\n",
      "DT: 0.950000 (0.011538)\n",
      "RF: 0.963462 (0.009993)\n",
      "Gaussian: 0.896154 (0.020712)\n"
     ]
    },
    {
     "data": {
      "image/png": "[encoded data removed]",
      "text/plain": [
       "<Figure size 432x288 with 1 Axes>"
      ]
     },
     "metadata": {},
     "output_type": "display_data"
    }
   ],
   "source": [
    "# avaliando os modelos em cada iteração\n",
    "results = []\n",
    "names = []\n",
    "scoring = 'accuracy'\n",
    "for name, model in models:\n",
    "    cv = KFold(n_splits=4, random_state=42, shuffle=True)\n",
    "    scores = cross_val_score(model, X, y, scoring='accuracy', cv=cv, n_jobs=-1)\n",
    "    results.append(scores)\n",
    "    names.append(name)\n",
    "    msg = \"%s: %f (%f)\" % (name, scores.mean(), scores.std())\n",
    "    print(msg)\n",
    "# boxplot dos modelos\n",
    "fig = plt.figure()\n",
    "fig.suptitle('Comparação entre os modelos')\n",
    "ax = fig.add_subplot(111)\n",
    "plt.boxplot(results)\n",
    "ax.set_xticklabels(names)\n",
    "plt.show()"
   ]
  },
  {
   "cell_type": "markdown",
   "id": "c0f6bf62",
   "metadata": {
    "ExecuteTime": {
     "end_time": "2021-08-15T18:48:13.730471Z",
     "start_time": "2021-08-15T18:48:13.714489Z"
    }
   },
   "source": [
    "Dos modelos selecionados o **Random Forest** obteve maior acurácia e o menor desvio padrão."
   ]
  },
  {
   "cell_type": "code",
   "execution_count": 78,
   "id": "e838e95a",
   "metadata": {
    "ExecuteTime": {
     "end_time": "2021-08-17T01:00:18.598402Z",
     "start_time": "2021-08-17T00:59:16.198885Z"
    }
   },
   "outputs": [
    {
     "name": "stdout",
     "output_type": "stream",
     "text": [
      "Fitting 5 folds for each of 24 candidates, totalling 120 fits\n"
     ]
    },
    {
     "data": {
      "text/plain": [
       "GridSearchCV(cv=5, estimator=RandomForestClassifier(random_state=42),\n",
       "             param_grid={'max_depth': [2, 3, 4, 5],\n",
       "                         'max_features': ['auto', 'sqrt', 'log2'],\n",
       "                         'n_estimators': [100, 300]},\n",
       "             verbose=1)"
      ]
     },
     "execution_count": 78,
     "metadata": {},
     "output_type": "execute_result"
    }
   ],
   "source": [
    "params = {'n_estimators':[100,300], 'max_depth': [2, 3, 4,5], 'max_features':['auto', 'sqrt', 'log2']}\n",
    "grid_search_cv = GridSearchCV(RandomForestClassifier(random_state=42), params, verbose=1, cv=5)\n",
    "grid_search_cv.fit(X_train, y_train)"
   ]
  },
  {
   "cell_type": "code",
   "execution_count": 79,
   "id": "c9069107",
   "metadata": {
    "ExecuteTime": {
     "end_time": "2021-08-17T01:00:18.614394Z",
     "start_time": "2021-08-17T01:00:18.602400Z"
    }
   },
   "outputs": [],
   "source": [
    "rf_model = grid_search_cv.best_estimator_\n"
   ]
  },
  {
   "cell_type": "code",
   "execution_count": 80,
   "id": "7e1c6036",
   "metadata": {
    "ExecuteTime": {
     "end_time": "2021-08-17T01:00:18.725330Z",
     "start_time": "2021-08-17T01:00:18.619392Z"
    }
   },
   "outputs": [],
   "source": [
    "y_pred = rf_model.predict(X_test)"
   ]
  },
  {
   "cell_type": "code",
   "execution_count": 81,
   "id": "18a6ef83",
   "metadata": {
    "ExecuteTime": {
     "end_time": "2021-08-17T01:00:18.756305Z",
     "start_time": "2021-08-17T01:00:18.728323Z"
    }
   },
   "outputs": [
    {
     "name": "stdout",
     "output_type": "stream",
     "text": [
      "              precision    recall  f1-score   support\n",
      "\n",
      "    negative       0.86      0.93      0.89        54\n",
      "    positive       0.96      0.92      0.94       102\n",
      "\n",
      "    accuracy                           0.92       156\n",
      "   macro avg       0.91      0.92      0.92       156\n",
      "weighted avg       0.93      0.92      0.92       156\n",
      "\n"
     ]
    }
   ],
   "source": [
    "from sklearn.metrics import classification_report\n",
    "target_names = ['negative', 'positive']\n",
    "print(classification_report(y_test, y_pred, target_names=target_names))"
   ]
  },
  {
   "cell_type": "code",
   "execution_count": 90,
   "id": "0538179b",
   "metadata": {
    "ExecuteTime": {
     "end_time": "2021-08-17T01:09:12.583098Z",
     "start_time": "2021-08-17T01:09:11.920508Z"
    }
   },
   "outputs": [
    {
     "data": {
      "image/png": "[encoded data removed]",
      "text/plain": [
       "<Figure size 432x288 with 2 Axes>"
      ]
     },
     "metadata": {},
     "output_type": "display_data"
    }
   ],
   "source": [
    "cf_matrix = confusion_matrix(y_test, y_pred)\n",
    "group_names = [\"True Neg\",\"False Pos\",\"False Neg\",\"True Pos\"]\n",
    "group_counts = ['{0:0.0f}'.format(value) for value in\n",
    "                cf_matrix.flatten()]\n",
    "group_percentages = ['{0:.2%}'.format(value) for value in\n",
    "                     cf_matrix.flatten()/np.sum(cf_matrix)]\n",
    "labels = [f'{v1}\\n{v2}\\n{v3}' for v1, v2, v3 in\n",
    "          zip(group_names,group_counts,group_percentages)]\n",
    "labels = np.asarray(labels).reshape(2,2)\n",
    "sns.heatmap(cf_matrix, annot=labels, fmt='', cmap='Blues');\n",
    "plt.xlabel('Real',fontsize=18)\n",
    "plt.ylabel('Predito',fontsize=18);\n",
    "plt.savefig('../figures/classification_report.png',dpi=100,bbox_inches='tight')"
   ]
  },
  {
   "cell_type": "code",
   "execution_count": 93,
   "id": "755de50c",
   "metadata": {
    "ExecuteTime": {
     "end_time": "2021-08-17T01:10:15.632226Z",
     "start_time": "2021-08-17T01:10:15.526281Z"
    }
   },
   "outputs": [
    {
     "data": {
      "text/html": [
       "<div>\n",
       "<style scoped>\n",
       "    .dataframe tbody tr th:only-of-type {\n",
       "        vertical-align: middle;\n",
       "    }\n",
       "\n",
       "    .dataframe tbody tr th {\n",
       "        vertical-align: top;\n",
       "    }\n",
       "\n",
       "    .dataframe thead th {\n",
       "        text-align: right;\n",
       "    }\n",
       "</style>\n",
       "<table border=\"1\" class=\"dataframe\">\n",
       "  <thead>\n",
       "    <tr style=\"text-align: right;\">\n",
       "      <th></th>\n",
       "      <th>0</th>\n",
       "    </tr>\n",
       "  </thead>\n",
       "  <tbody>\n",
       "    <tr>\n",
       "      <th>Polyuria</th>\n",
       "      <td>0.285935</td>\n",
       "    </tr>\n",
       "    <tr>\n",
       "      <th>Polydipsia</th>\n",
       "      <td>0.228894</td>\n",
       "    </tr>\n",
       "    <tr>\n",
       "      <th>Gender_Female</th>\n",
       "      <td>0.121463</td>\n",
       "    </tr>\n",
       "    <tr>\n",
       "      <th>sudden weight loss</th>\n",
       "      <td>0.099738</td>\n",
       "    </tr>\n",
       "    <tr>\n",
       "      <th>partial paresis</th>\n",
       "      <td>0.065068</td>\n",
       "    </tr>\n",
       "    <tr>\n",
       "      <th>Irritability</th>\n",
       "      <td>0.049407</td>\n",
       "    </tr>\n",
       "    <tr>\n",
       "      <th>Alopecia</th>\n",
       "      <td>0.043328</td>\n",
       "    </tr>\n",
       "    <tr>\n",
       "      <th>visual blurring</th>\n",
       "      <td>0.029450</td>\n",
       "    </tr>\n",
       "    <tr>\n",
       "      <th>Polyphagia</th>\n",
       "      <td>0.027086</td>\n",
       "    </tr>\n",
       "    <tr>\n",
       "      <th>Genital thrush</th>\n",
       "      <td>0.025224</td>\n",
       "    </tr>\n",
       "    <tr>\n",
       "      <th>weakness</th>\n",
       "      <td>0.024406</td>\n",
       "    </tr>\n",
       "  </tbody>\n",
       "</table>\n",
       "</div>"
      ],
      "text/plain": [
       "                           0\n",
       "Polyuria            0.285935\n",
       "Polydipsia          0.228894\n",
       "Gender_Female       0.121463\n",
       "sudden weight loss  0.099738\n",
       "partial paresis     0.065068\n",
       "Irritability        0.049407\n",
       "Alopecia            0.043328\n",
       "visual blurring     0.029450\n",
       "Polyphagia          0.027086\n",
       "Genital thrush      0.025224\n",
       "weakness            0.024406"
      ]
     },
     "execution_count": 93,
     "metadata": {},
     "output_type": "execute_result"
    }
   ],
   "source": [
    "feature_scores = pd.Series(rf_model.feature_importances_, index=X_train.columns).sort_values(ascending=False).to_frame()\n",
    "\n",
    "feature_scores"
   ]
  },
  {
   "cell_type": "code",
   "execution_count": 94,
   "id": "b68f8c31",
   "metadata": {
    "ExecuteTime": {
     "end_time": "2021-08-17T01:10:18.381520Z",
     "start_time": "2021-08-17T01:10:17.134296Z"
    }
   },
   "outputs": [
    {
     "data": {
      "image/png": "[encoded data removed]",
      "text/plain": [
       "<Figure size 1584x1008 with 1 Axes>"
      ]
     },
     "metadata": {},
     "output_type": "display_data"
    }
   ],
   "source": [
    "plt.figure(figsize=(22,14))\n",
    "\n",
    "sns.set(font_scale=1.4)\n",
    "sns.barplot(y=feature_scores.index,x=feature_scores[0],palette=\"Greens_r\")\n",
    "plt.yticks(fontsize=18)\n",
    "plt.xticks()\n",
    "plt.ylabel('Variáveis',fontsize=18)\n",
    "plt.xlabel('Peso das Variáveis',fontsize=18);\n",
    "plt.savefig('../figures/model_importance.png',dpi=100,bbox_inches='tight')"
   ]
  },
  {
   "cell_type": "code",
   "execution_count": 736,
   "id": "0ca83c81",
   "metadata": {
    "ExecuteTime": {
     "end_time": "2021-08-15T19:59:04.148232Z",
     "start_time": "2021-08-15T19:59:03.023921Z"
    }
   },
   "outputs": [
    {
     "data": {
      "image/png": "[encoded data removed]",
      "text/plain": [
       "<Figure size 576x424.8 with 2 Axes>"
      ]
     },
     "metadata": {},
     "output_type": "display_data"
    }
   ],
   "source": [
    "\n",
    "# Criando o objeto shap com base no modelo \n",
    "explainer = shap.TreeExplainer(rf_model)\n",
    "\n",
    "# calculando o shap value\n",
    "shap_values = explainer.shap_values(X_test)\n",
    "\n",
    "shap.summary_plot(shap_values[1], X_test)\n"
   ]
  },
  {
   "cell_type": "code",
   "execution_count": 737,
   "id": "c8b03183",
   "metadata": {
    "ExecuteTime": {
     "end_time": "2021-08-15T19:59:13.445493Z",
     "start_time": "2021-08-15T19:59:13.000768Z"
    },
    "scrolled": true
   },
   "outputs": [
    {
     "data": {
      "image/png": "[encoded data removed]",
      "text/plain": [
       "<Figure size 576x424.8 with 1 Axes>"
      ]
     },
     "metadata": {},
     "output_type": "display_data"
    }
   ],
   "source": [
    "shap.summary_plot(shap_values, X_train)"
   ]
  },
  {
   "cell_type": "code",
   "execution_count": 739,
   "id": "4cdb6cd2",
   "metadata": {
    "ExecuteTime": {
     "end_time": "2021-08-15T19:59:27.714694Z",
     "start_time": "2021-08-15T19:59:27.303948Z"
    }
   },
   "outputs": [
    {
     "name": "stderr",
     "output_type": "stream",
     "text": [
      "Passing parameters norm and vmin/vmax simultaneously is deprecated since 3.3 and will become an error two minor releases later. Please pass vmin/vmax directly to the norm when creating it.\n"
     ]
    },
    {
     "data": {
      "image/png": "[encoded data removed]",
      "text/plain": [
       "<Figure size 540x360 with 2 Axes>"
      ]
     },
     "metadata": {},
     "output_type": "display_data"
    }
   ],
   "source": [
    "shap.dependence_plot(\"Polyuria\", shap_values[0], X_test)\n"
   ]
  },
  {
   "cell_type": "markdown",
   "id": "fdfc2e16",
   "metadata": {
    "ExecuteTime": {
     "end_time": "2021-08-15T19:25:49.680934Z",
     "start_time": "2021-08-15T19:25:49.665944Z"
    }
   },
   "source": [
    " O modelo poderá encontrar dificuldades de manter seu desempenho se a proporção de homens e mulheres for muito diferente dos dados utilizados. Além disso, se a distribuição dos dados de pessoas com Polydpsia for alterado significante, também, poderá impactar no seu desempenho já que essa variáveis são importantes no diagnóstico. Vale ressaltar, também, que o dataset é relativamente pequeno o que pode levar a diagnóstico incorretos conforme mais informações sejam fornecidas ao presente modelo."
   ]
  },
  {
   "cell_type": "code",
   "execution_count": null,
   "id": "294d8784",
   "metadata": {},
   "outputs": [],
   "source": []
  }
 ],
 "metadata": {
  "kernelspec": {
   "display_name": "diabetes_project",
   "language": "python",
   "name": "diabetes_project"
  },
  "language_info": {
   "codemirror_mode": {
    "name": "ipython",
    "version": 3
   },
   "file_extension": ".py",
   "mimetype": "text/x-python",
   "name": "python",
   "nbconvert_exporter": "python",
   "pygments_lexer": "ipython3",
   "version": "3.8.11"
  },
  "toc": {
   "base_numbering": 1,
   "nav_menu": {},
   "number_sections": true,
   "sideBar": true,
   "skip_h1_title": false,
   "title_cell": "Table of Contents",
   "title_sidebar": "Contents",
   "toc_cell": false,
   "toc_position": {
    "height": "calc(100% - 180px)",
    "left": "10px",
    "top": "150px",
    "width": "384px"
   },
   "toc_section_display": true,
   "toc_window_display": false
  }
 },
 "nbformat": 4,
 "nbformat_minor": 5
}
